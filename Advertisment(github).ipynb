{
  "nbformat": 4,
  "nbformat_minor": 0,
  "metadata": {
    "colab": {
      "name": "Advertisment(github).ipynb",
      "provenance": [],
      "collapsed_sections": [],
      "toc_visible": true
    },
    "kernelspec": {
      "name": "python3",
      "display_name": "Python 3"
    },
    "language_info": {
      "name": "python"
    }
  },
  "cells": [
    {
      "cell_type": "markdown",
      "metadata": {
        "id": "AcHZkGbhMtZw"
      },
      "source": [
        "# Import Basic Libraries & Data set"
      ]
    },
    {
      "cell_type": "code",
      "metadata": {
        "id": "YkMEqcnfMviV"
      },
      "source": [
        "import numpy as np\n",
        "import pandas as pd\n",
        "import matplotlib.pyplot as plt\n",
        "import seaborn as sns"
      ],
      "execution_count": null,
      "outputs": []
    },
    {
      "cell_type": "code",
      "metadata": {
        "id": "8Pfn3w0wWSMA"
      },
      "source": [
        "df=pd.read_csv(\"/content/drive/MyDrive/Deep_Learning_Practise/advertising.csv\")"
      ],
      "execution_count": null,
      "outputs": []
    },
    {
      "cell_type": "markdown",
      "metadata": {
        "id": "qusHxQUQNGh5"
      },
      "source": [
        "# Data Preprocessing"
      ]
    },
    {
      "cell_type": "code",
      "metadata": {
        "colab": {
          "base_uri": "https://localhost:8080/",
          "height": 180
        },
        "id": "IBpn2fRLWgjP",
        "outputId": "6723d40c-ebc3-4561-f472-a68834d287ba"
      },
      "source": [
        "# to show first five records\n",
        "df.head()"
      ],
      "execution_count": null,
      "outputs": [
        {
          "output_type": "error",
          "ename": "NameError",
          "evalue": "ignored",
          "traceback": [
            "\u001b[0;31m---------------------------------------------------------------------------\u001b[0m",
            "\u001b[0;31mNameError\u001b[0m                                 Traceback (most recent call last)",
            "\u001b[0;32m<ipython-input-1-088e82a5bba7>\u001b[0m in \u001b[0;36m<module>\u001b[0;34m()\u001b[0m\n\u001b[1;32m      1\u001b[0m \u001b[0;31m# to show first five records\u001b[0m\u001b[0;34m\u001b[0m\u001b[0;34m\u001b[0m\u001b[0;34m\u001b[0m\u001b[0m\n\u001b[0;32m----> 2\u001b[0;31m \u001b[0mdf\u001b[0m\u001b[0;34m.\u001b[0m\u001b[0mhead\u001b[0m\u001b[0;34m(\u001b[0m\u001b[0;34m)\u001b[0m\u001b[0;34m\u001b[0m\u001b[0;34m\u001b[0m\u001b[0m\n\u001b[0m",
            "\u001b[0;31mNameError\u001b[0m: name 'df' is not defined"
          ]
        }
      ]
    },
    {
      "cell_type": "code",
      "metadata": {
        "id": "a1psB_mhWho_",
        "colab": {
          "base_uri": "https://localhost:8080/",
          "height": 197
        },
        "outputId": "ab0c70fe-3dab-4b69-a7cf-92f50f366502"
      },
      "source": [
        "# To remove unwanted columns\n",
        "\n",
        "df.drop(\"Unnamed: 0\",axis=1,inplace=True)"
      ],
      "execution_count": null,
      "outputs": [
        {
          "output_type": "error",
          "ename": "NameError",
          "evalue": "ignored",
          "traceback": [
            "\u001b[0;31m---------------------------------------------------------------------------\u001b[0m",
            "\u001b[0;31mNameError\u001b[0m                                 Traceback (most recent call last)",
            "\u001b[0;32m<ipython-input-2-f7acbfb2236d>\u001b[0m in \u001b[0;36m<module>\u001b[0;34m()\u001b[0m\n\u001b[1;32m      1\u001b[0m \u001b[0;31m# To remove unwanted columns\u001b[0m\u001b[0;34m\u001b[0m\u001b[0;34m\u001b[0m\u001b[0;34m\u001b[0m\u001b[0m\n\u001b[1;32m      2\u001b[0m \u001b[0;34m\u001b[0m\u001b[0m\n\u001b[0;32m----> 3\u001b[0;31m \u001b[0mdf\u001b[0m\u001b[0;34m.\u001b[0m\u001b[0mdrop\u001b[0m\u001b[0;34m(\u001b[0m\u001b[0;34m\"Unnamed: 0\"\u001b[0m\u001b[0;34m,\u001b[0m\u001b[0maxis\u001b[0m\u001b[0;34m=\u001b[0m\u001b[0;36m1\u001b[0m\u001b[0;34m,\u001b[0m\u001b[0minplace\u001b[0m\u001b[0;34m=\u001b[0m\u001b[0;32mTrue\u001b[0m\u001b[0;34m)\u001b[0m\u001b[0;34m\u001b[0m\u001b[0;34m\u001b[0m\u001b[0m\n\u001b[0m",
            "\u001b[0;31mNameError\u001b[0m: name 'df' is not defined"
          ]
        }
      ]
    },
    {
      "cell_type": "code",
      "metadata": {
        "colab": {
          "base_uri": "https://localhost:8080/",
          "height": 204
        },
        "id": "sMGmKxPfWnuf",
        "outputId": "905779a4-d56e-4044-ad80-ac693953a5ba"
      },
      "source": [
        "# To check unwanted columns droped or not \n",
        "df.head()"
      ],
      "execution_count": null,
      "outputs": [
        {
          "output_type": "execute_result",
          "data": {
            "text/html": [
              "<div>\n",
              "<style scoped>\n",
              "    .dataframe tbody tr th:only-of-type {\n",
              "        vertical-align: middle;\n",
              "    }\n",
              "\n",
              "    .dataframe tbody tr th {\n",
              "        vertical-align: top;\n",
              "    }\n",
              "\n",
              "    .dataframe thead th {\n",
              "        text-align: right;\n",
              "    }\n",
              "</style>\n",
              "<table border=\"1\" class=\"dataframe\">\n",
              "  <thead>\n",
              "    <tr style=\"text-align: right;\">\n",
              "      <th></th>\n",
              "      <th>TV</th>\n",
              "      <th>radio</th>\n",
              "      <th>newspaper</th>\n",
              "      <th>sales</th>\n",
              "    </tr>\n",
              "  </thead>\n",
              "  <tbody>\n",
              "    <tr>\n",
              "      <th>0</th>\n",
              "      <td>230.1</td>\n",
              "      <td>37.8</td>\n",
              "      <td>69.2</td>\n",
              "      <td>22.1</td>\n",
              "    </tr>\n",
              "    <tr>\n",
              "      <th>1</th>\n",
              "      <td>44.5</td>\n",
              "      <td>39.3</td>\n",
              "      <td>45.1</td>\n",
              "      <td>10.4</td>\n",
              "    </tr>\n",
              "    <tr>\n",
              "      <th>2</th>\n",
              "      <td>17.2</td>\n",
              "      <td>45.9</td>\n",
              "      <td>69.3</td>\n",
              "      <td>9.3</td>\n",
              "    </tr>\n",
              "    <tr>\n",
              "      <th>3</th>\n",
              "      <td>151.5</td>\n",
              "      <td>41.3</td>\n",
              "      <td>58.5</td>\n",
              "      <td>18.5</td>\n",
              "    </tr>\n",
              "    <tr>\n",
              "      <th>4</th>\n",
              "      <td>180.8</td>\n",
              "      <td>10.8</td>\n",
              "      <td>58.4</td>\n",
              "      <td>12.9</td>\n",
              "    </tr>\n",
              "  </tbody>\n",
              "</table>\n",
              "</div>"
            ],
            "text/plain": [
              "      TV  radio  newspaper  sales\n",
              "0  230.1   37.8       69.2   22.1\n",
              "1   44.5   39.3       45.1   10.4\n",
              "2   17.2   45.9       69.3    9.3\n",
              "3  151.5   41.3       58.5   18.5\n",
              "4  180.8   10.8       58.4   12.9"
            ]
          },
          "metadata": {
            "tags": []
          },
          "execution_count": 5
        }
      ]
    },
    {
      "cell_type": "code",
      "metadata": {
        "colab": {
          "base_uri": "https://localhost:8080/",
          "height": 231
        },
        "id": "9YjeiFPPWpIt",
        "outputId": "2a6a837d-d28e-4c27-ce26-3bc256408e72"
      },
      "source": [
        "# To check null values by Visulization\n",
        "plt.figure(figsize=(10,5))\n",
        "sns.heatmap(df.isnull())\n",
        "plt.show()\n",
        "print(df.isnull().sum())"
      ],
      "execution_count": null,
      "outputs": [
        {
          "output_type": "error",
          "ename": "NameError",
          "evalue": "ignored",
          "traceback": [
            "\u001b[0;31m---------------------------------------------------------------------------\u001b[0m",
            "\u001b[0;31mNameError\u001b[0m                                 Traceback (most recent call last)",
            "\u001b[0;32m<ipython-input-3-4e2525bfd625>\u001b[0m in \u001b[0;36m<module>\u001b[0;34m()\u001b[0m\n\u001b[1;32m      1\u001b[0m \u001b[0;31m# To check null values by Visulization\u001b[0m\u001b[0;34m\u001b[0m\u001b[0;34m\u001b[0m\u001b[0;34m\u001b[0m\u001b[0m\n\u001b[0;32m----> 2\u001b[0;31m \u001b[0mplt\u001b[0m\u001b[0;34m.\u001b[0m\u001b[0mfigure\u001b[0m\u001b[0;34m(\u001b[0m\u001b[0mfigsize\u001b[0m\u001b[0;34m=\u001b[0m\u001b[0;34m(\u001b[0m\u001b[0;36m10\u001b[0m\u001b[0;34m,\u001b[0m\u001b[0;36m5\u001b[0m\u001b[0;34m)\u001b[0m\u001b[0;34m)\u001b[0m\u001b[0;34m\u001b[0m\u001b[0;34m\u001b[0m\u001b[0m\n\u001b[0m\u001b[1;32m      3\u001b[0m \u001b[0msns\u001b[0m\u001b[0;34m.\u001b[0m\u001b[0mheatmap\u001b[0m\u001b[0;34m(\u001b[0m\u001b[0mdf\u001b[0m\u001b[0;34m.\u001b[0m\u001b[0misnull\u001b[0m\u001b[0;34m(\u001b[0m\u001b[0;34m)\u001b[0m\u001b[0;34m)\u001b[0m\u001b[0;34m\u001b[0m\u001b[0;34m\u001b[0m\u001b[0m\n\u001b[1;32m      4\u001b[0m \u001b[0mplt\u001b[0m\u001b[0;34m.\u001b[0m\u001b[0mshow\u001b[0m\u001b[0;34m(\u001b[0m\u001b[0;34m)\u001b[0m\u001b[0;34m\u001b[0m\u001b[0;34m\u001b[0m\u001b[0m\n\u001b[1;32m      5\u001b[0m \u001b[0mprint\u001b[0m\u001b[0;34m(\u001b[0m\u001b[0mdf\u001b[0m\u001b[0;34m.\u001b[0m\u001b[0misnull\u001b[0m\u001b[0;34m(\u001b[0m\u001b[0;34m)\u001b[0m\u001b[0;34m.\u001b[0m\u001b[0msum\u001b[0m\u001b[0;34m(\u001b[0m\u001b[0;34m)\u001b[0m\u001b[0;34m)\u001b[0m\u001b[0;34m\u001b[0m\u001b[0;34m\u001b[0m\u001b[0m\n",
            "\u001b[0;31mNameError\u001b[0m: name 'plt' is not defined"
          ]
        }
      ]
    },
    {
      "cell_type": "markdown",
      "metadata": {
        "id": "jZ_eLCbuOFh_"
      },
      "source": [
        "# Seperate input & output from dataset\n",
        "\n",
        "\n",
        "\n"
      ]
    },
    {
      "cell_type": "code",
      "metadata": {
        "id": "UCzmbcbgXKs8"
      },
      "source": [
        "x=df.drop(\"sales\",axis=1)\n",
        "y=df[\"sales\"]"
      ],
      "execution_count": null,
      "outputs": []
    },
    {
      "cell_type": "markdown",
      "metadata": {
        "id": "t0iM26rDORB2"
      },
      "source": [
        "# Train_test_split data (80%-Training & 20% Testing)"
      ]
    },
    {
      "cell_type": "code",
      "metadata": {
        "id": "IpY-Eu8qXy7s"
      },
      "source": [
        "from sklearn.model_selection import train_test_split"
      ],
      "execution_count": null,
      "outputs": []
    },
    {
      "cell_type": "code",
      "metadata": {
        "id": "HUx0SUzOYCW7"
      },
      "source": [
        "x_train,x_test,y_train,y_test=train_test_split(x,y,random_state=0,test_size=0.2)"
      ],
      "execution_count": null,
      "outputs": []
    },
    {
      "cell_type": "markdown",
      "metadata": {
        "id": "bDneLDC6Pnff"
      },
      "source": [
        "# Scalling input data"
      ]
    },
    {
      "cell_type": "code",
      "metadata": {
        "id": "nMv0Id2oYcKD"
      },
      "source": [
        "from sklearn.preprocessing import StandardScaler"
      ],
      "execution_count": null,
      "outputs": []
    },
    {
      "cell_type": "code",
      "metadata": {
        "id": "46aTmtL9YmFP"
      },
      "source": [
        "ss=StandardScaler() # create an object\n",
        "x_train=ss.fit_transform(x_train)# training data\n",
        "x_test=ss.transform(x_test) # testing data"
      ],
      "execution_count": null,
      "outputs": []
    },
    {
      "cell_type": "markdown",
      "metadata": {
        "id": "12OwtcwsQIEJ"
      },
      "source": [
        "# Create Neaural Network"
      ]
    },
    {
      "cell_type": "code",
      "metadata": {
        "id": "fj46vLnUYzBG"
      },
      "source": [
        "import tensorflow as tf"
      ],
      "execution_count": null,
      "outputs": []
    },
    {
      "cell_type": "code",
      "metadata": {
        "id": "KTUoF11ZY6iL"
      },
      "source": [
        "# Create Sequential Model\n",
        "model=tf.keras.Sequential([\n",
        "                           tf.keras.layers.Dense(2,activation=\"relu\",input_shape=(x.shape[1],)),\n",
        "                           tf.keras.layers.Dense(3,activation=\"relu\"),\n",
        "                           tf.keras.layers.Dense(1)\n",
        "])"
      ],
      "execution_count": null,
      "outputs": []
    },
    {
      "cell_type": "code",
      "metadata": {
        "id": "nAjVQVSBaBNM"
      },
      "source": [
        "# Compile the model\n",
        "model.compile(optimizer=\"sgd\",loss=\"mse\")"
      ],
      "execution_count": null,
      "outputs": []
    },
    {
      "cell_type": "code",
      "metadata": {
        "colab": {
          "base_uri": "https://localhost:8080/"
        },
        "id": "8rxRYCnvaJjz",
        "outputId": "8be3ce71-abdc-441f-a2c0-f6c754a28af2"
      },
      "source": [
        "# Train the model by using inbuild method fit\n",
        "trained_model=model.fit(x_train,y_train,epochs=50)"
      ],
      "execution_count": null,
      "outputs": [
        {
          "output_type": "stream",
          "text": [
            "Epoch 1/50\n",
            "5/5 [==============================] - 0s 4ms/step - loss: 131.8184\n",
            "Epoch 2/50\n",
            "5/5 [==============================] - 0s 3ms/step - loss: 12.9896\n",
            "Epoch 3/50\n",
            "5/5 [==============================] - 0s 3ms/step - loss: 3.6934\n",
            "Epoch 4/50\n",
            "5/5 [==============================] - 0s 3ms/step - loss: 3.0100\n",
            "Epoch 5/50\n",
            "5/5 [==============================] - 0s 3ms/step - loss: 2.7196\n",
            "Epoch 6/50\n",
            "5/5 [==============================] - 0s 3ms/step - loss: 2.3599\n",
            "Epoch 7/50\n",
            "5/5 [==============================] - 0s 2ms/step - loss: 2.4692\n",
            "Epoch 8/50\n",
            "5/5 [==============================] - 0s 2ms/step - loss: 1.9317\n",
            "Epoch 9/50\n",
            "5/5 [==============================] - 0s 5ms/step - loss: 2.8694\n",
            "Epoch 10/50\n",
            "5/5 [==============================] - 0s 3ms/step - loss: 2.1372\n",
            "Epoch 11/50\n",
            "5/5 [==============================] - 0s 2ms/step - loss: 2.0303\n",
            "Epoch 12/50\n",
            "5/5 [==============================] - 0s 2ms/step - loss: 2.0716\n",
            "Epoch 13/50\n",
            "5/5 [==============================] - 0s 3ms/step - loss: 1.7403\n",
            "Epoch 14/50\n",
            "5/5 [==============================] - 0s 2ms/step - loss: 1.5518\n",
            "Epoch 15/50\n",
            "5/5 [==============================] - 0s 2ms/step - loss: 1.6369\n",
            "Epoch 16/50\n",
            "5/5 [==============================] - 0s 4ms/step - loss: 1.6292\n",
            "Epoch 17/50\n",
            "5/5 [==============================] - 0s 4ms/step - loss: 1.8039\n",
            "Epoch 18/50\n",
            "5/5 [==============================] - 0s 3ms/step - loss: 1.6275\n",
            "Epoch 19/50\n",
            "5/5 [==============================] - 0s 2ms/step - loss: 1.6664\n",
            "Epoch 20/50\n",
            "5/5 [==============================] - 0s 3ms/step - loss: 1.6105\n",
            "Epoch 21/50\n",
            "5/5 [==============================] - 0s 2ms/step - loss: 1.4970\n",
            "Epoch 22/50\n",
            "5/5 [==============================] - 0s 3ms/step - loss: 1.5721\n",
            "Epoch 23/50\n",
            "5/5 [==============================] - 0s 3ms/step - loss: 1.6206\n",
            "Epoch 24/50\n",
            "5/5 [==============================] - 0s 2ms/step - loss: 1.9113\n",
            "Epoch 25/50\n",
            "5/5 [==============================] - 0s 2ms/step - loss: 1.7071\n",
            "Epoch 26/50\n",
            "5/5 [==============================] - 0s 2ms/step - loss: 1.8630\n",
            "Epoch 27/50\n",
            "5/5 [==============================] - 0s 3ms/step - loss: 1.5796\n",
            "Epoch 28/50\n",
            "5/5 [==============================] - 0s 3ms/step - loss: 1.7247\n",
            "Epoch 29/50\n",
            "5/5 [==============================] - 0s 4ms/step - loss: 1.8135\n",
            "Epoch 30/50\n",
            "5/5 [==============================] - 0s 2ms/step - loss: 1.4679\n",
            "Epoch 31/50\n",
            "5/5 [==============================] - 0s 3ms/step - loss: 1.4465\n",
            "Epoch 32/50\n",
            "5/5 [==============================] - 0s 3ms/step - loss: 1.5525\n",
            "Epoch 33/50\n",
            "5/5 [==============================] - 0s 3ms/step - loss: 1.5184\n",
            "Epoch 34/50\n",
            "5/5 [==============================] - 0s 3ms/step - loss: 1.4291\n",
            "Epoch 35/50\n",
            "5/5 [==============================] - 0s 3ms/step - loss: 1.4598\n",
            "Epoch 36/50\n",
            "5/5 [==============================] - 0s 3ms/step - loss: 1.4289\n",
            "Epoch 37/50\n",
            "5/5 [==============================] - 0s 2ms/step - loss: 1.5901\n",
            "Epoch 38/50\n",
            "5/5 [==============================] - 0s 3ms/step - loss: 1.5199\n",
            "Epoch 39/50\n",
            "5/5 [==============================] - 0s 3ms/step - loss: 1.4834\n",
            "Epoch 40/50\n",
            "5/5 [==============================] - 0s 3ms/step - loss: 1.4873\n",
            "Epoch 41/50\n",
            "5/5 [==============================] - 0s 4ms/step - loss: 1.4376\n",
            "Epoch 42/50\n",
            "5/5 [==============================] - 0s 3ms/step - loss: 1.4641\n",
            "Epoch 43/50\n",
            "5/5 [==============================] - 0s 4ms/step - loss: 1.5130\n",
            "Epoch 44/50\n",
            "5/5 [==============================] - 0s 4ms/step - loss: 1.7481\n",
            "Epoch 45/50\n",
            "5/5 [==============================] - 0s 6ms/step - loss: 1.5029\n",
            "Epoch 46/50\n",
            "5/5 [==============================] - 0s 4ms/step - loss: 1.4310\n",
            "Epoch 47/50\n",
            "5/5 [==============================] - 0s 4ms/step - loss: 1.5519\n",
            "Epoch 48/50\n",
            "5/5 [==============================] - 0s 4ms/step - loss: 1.6191\n",
            "Epoch 49/50\n",
            "5/5 [==============================] - 0s 3ms/step - loss: 1.5484\n",
            "Epoch 50/50\n",
            "5/5 [==============================] - 0s 4ms/step - loss: 1.4056\n"
          ],
          "name": "stdout"
        }
      ]
    },
    {
      "cell_type": "markdown",
      "metadata": {
        "id": "NBXVTwiGNeHc"
      },
      "source": [
        "# Visualized the history of loss of trained_model"
      ]
    },
    {
      "cell_type": "code",
      "metadata": {
        "colab": {
          "base_uri": "https://localhost:8080/",
          "height": 295
        },
        "id": "g4tex_Z8aY3P",
        "outputId": "f097f5d0-f522-40a2-b113-ad7982b2ecc9"
      },
      "source": [
        "plt.plot(trained_model.history['loss'])\n",
        "#plt.plot(trained_model.history[\"val_loss\"])\n",
        "plt.title(\"Model of Loss\")\n",
        "plt.xlabel(\"loss\")\n",
        "plt.ylabel(\"Epochs\")\n",
        "plt.legend([\"Train\",\"Val\"],loc=\"upper right\")\n",
        "plt.show()"
      ],
      "execution_count": null,
      "outputs": [
        {
          "output_type": "display_data",
          "data": {
            "image/png": "[encoded data removed]",
            "text/plain": [
              "<Figure size 432x288 with 1 Axes>"
            ]
          },
          "metadata": {
            "tags": [],
            "needs_background": "light"
          }
        }
      ]
    },
    {
      "cell_type": "markdown",
      "metadata": {
        "id": "I4OfbB-aRPpO"
      },
      "source": [
        "# Testing the model"
      ]
    },
    {
      "cell_type": "code",
      "metadata": {
        "colab": {
          "base_uri": "https://localhost:8080/"
        },
        "id": "c2mvnHHccj92",
        "outputId": "ba0d2f16-b04c-465e-c2a3-05ea98579714"
      },
      "source": [
        "y_pred=model.predict(x_test)\n",
        "print(y_pred[0:5])"
      ],
      "execution_count": null,
      "outputs": [
        {
          "output_type": "stream",
          "text": [
            "[[ 9.520247]\n",
            " [ 8.281201]\n",
            " [ 8.518491]\n",
            " [25.354927]\n",
            " [11.31356 ]]\n"
          ],
          "name": "stdout"
        }
      ]
    },
    {
      "cell_type": "code",
      "metadata": {
        "colab": {
          "base_uri": "https://localhost:8080/"
        },
        "id": "Kzb7L5Avc1po",
        "outputId": "463d27a3-9ed6-4937-fd43-14005caf65c0"
      },
      "source": [
        "print(y_test[0:5])"
      ],
      "execution_count": null,
      "outputs": [
        {
          "output_type": "stream",
          "text": [
            "18     11.3\n",
            "170     8.4\n",
            "107     8.7\n",
            "98     25.4\n",
            "177    11.7\n",
            "Name: sales, dtype: float64\n"
          ],
          "name": "stdout"
        }
      ]
    },
    {
      "cell_type": "markdown",
      "metadata": {
        "id": "Q_X2KeSdRYoX"
      },
      "source": [
        "# Evaluation_matrix"
      ]
    },
    {
      "cell_type": "code",
      "metadata": {
        "id": "B9q2Vl8xc7n-"
      },
      "source": [
        "# Find the r2_score\n",
        "from sklearn.metrics import r2_score"
      ],
      "execution_count": null,
      "outputs": []
    },
    {
      "cell_type": "code",
      "metadata": {
        "colab": {
          "base_uri": "https://localhost:8080/"
        },
        "id": "8X-gTUqqdCC1",
        "outputId": "ccc4b96e-52df-476f-fe52-77c8f6947dfd"
      },
      "source": [
        "score=(r2_score(y_test,y_pred))\n",
        "print(score.mean()*100)"
      ],
      "execution_count": null,
      "outputs": [
        {
          "output_type": "stream",
          "text": [
            "90.56490564381761\n"
          ],
          "name": "stdout"
        }
      ]
    },
    {
      "cell_type": "code",
      "metadata": {
        "id": "zOm-2A3NdHiY"
      },
      "source": [
        ""
      ],
      "execution_count": null,
      "outputs": []
    }
  ]
}