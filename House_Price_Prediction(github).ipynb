{
  "nbformat": 4,
  "nbformat_minor": 0,
  "metadata": {
    "colab": {
      "name": "House_Price_Prediction(github).ipynb",
      "provenance": [],
      "collapsed_sections": [
        "I2NDnu99FMSg"
      ],
      "toc_visible": true
    },
    "kernelspec": {
      "name": "python3",
      "display_name": "Python 3"
    },
    "language_info": {
      "name": "python"
    }
  },
  "cells": [
    {
      "cell_type": "markdown",
      "metadata": {
        "id": "I2NDnu99FMSg"
      },
      "source": [
        "# Import Basic Libraries & Load the data"
      ]
    },
    {
      "cell_type": "code",
      "metadata": {
        "id": "jSsfgyIYFU9X"
      },
      "source": [
        "import numpy as np\n",
        "import pandas as pd\n",
        "import matplotlib.pyplot as plt\n",
        "import seaborn as sns"
      ],
      "execution_count": null,
      "outputs": []
    },
    {
      "cell_type": "code",
      "metadata": {
        "id": "VE74JzhDfJLB"
      },
      "source": [
        "df=pd.read_csv(\"/content/drive/MyDrive/Deep_Learning_with_Meena_ma'am/housepricedata.csv\")"
      ],
      "execution_count": null,
      "outputs": []
    },
    {
      "cell_type": "markdown",
      "metadata": {
        "id": "1Uk_3v4KFZuR"
      },
      "source": [
        "# Data Preprocessing"
      ]
    },
    {
      "cell_type": "code",
      "metadata": {
        "colab": {
          "base_uri": "https://localhost:8080/",
          "height": 204
        },
        "id": "LMsIu2HhfZI1",
        "outputId": "a3ea2d80-7778-46f1-e2cd-b36f58ff8496"
      },
      "source": [
        "# To get first five records\n",
        "df.head()"
      ],
      "execution_count": null,
      "outputs": [
        {
          "output_type": "execute_result",
          "data": {
            "text/html": [
              "<div>\n",
              "<style scoped>\n",
              "    .dataframe tbody tr th:only-of-type {\n",
              "        vertical-align: middle;\n",
              "    }\n",
              "\n",
              "    .dataframe tbody tr th {\n",
              "        vertical-align: top;\n",
              "    }\n",
              "\n",
              "    .dataframe thead th {\n",
              "        text-align: right;\n",
              "    }\n",
              "</style>\n",
              "<table border=\"1\" class=\"dataframe\">\n",
              "  <thead>\n",
              "    <tr style=\"text-align: right;\">\n",
              "      <th></th>\n",
              "      <th>LotArea</th>\n",
              "      <th>OverallQual</th>\n",
              "      <th>OverallCond</th>\n",
              "      <th>TotalBsmtSF</th>\n",
              "      <th>FullBath</th>\n",
              "      <th>HalfBath</th>\n",
              "      <th>BedroomAbvGr</th>\n",
              "      <th>TotRmsAbvGrd</th>\n",
              "      <th>Fireplaces</th>\n",
              "      <th>GarageArea</th>\n",
              "      <th>AboveMedianPrice</th>\n",
              "    </tr>\n",
              "  </thead>\n",
              "  <tbody>\n",
              "    <tr>\n",
              "      <th>0</th>\n",
              "      <td>8450</td>\n",
              "      <td>7</td>\n",
              "      <td>5</td>\n",
              "      <td>856</td>\n",
              "      <td>2</td>\n",
              "      <td>1</td>\n",
              "      <td>3</td>\n",
              "      <td>8</td>\n",
              "      <td>0</td>\n",
              "      <td>548</td>\n",
              "      <td>1</td>\n",
              "    </tr>\n",
              "    <tr>\n",
              "      <th>1</th>\n",
              "      <td>9600</td>\n",
              "      <td>6</td>\n",
              "      <td>8</td>\n",
              "      <td>1262</td>\n",
              "      <td>2</td>\n",
              "      <td>0</td>\n",
              "      <td>3</td>\n",
              "      <td>6</td>\n",
              "      <td>1</td>\n",
              "      <td>460</td>\n",
              "      <td>1</td>\n",
              "    </tr>\n",
              "    <tr>\n",
              "      <th>2</th>\n",
              "      <td>11250</td>\n",
              "      <td>7</td>\n",
              "      <td>5</td>\n",
              "      <td>920</td>\n",
              "      <td>2</td>\n",
              "      <td>1</td>\n",
              "      <td>3</td>\n",
              "      <td>6</td>\n",
              "      <td>1</td>\n",
              "      <td>608</td>\n",
              "      <td>1</td>\n",
              "    </tr>\n",
              "    <tr>\n",
              "      <th>3</th>\n",
              "      <td>9550</td>\n",
              "      <td>7</td>\n",
              "      <td>5</td>\n",
              "      <td>756</td>\n",
              "      <td>1</td>\n",
              "      <td>0</td>\n",
              "      <td>3</td>\n",
              "      <td>7</td>\n",
              "      <td>1</td>\n",
              "      <td>642</td>\n",
              "      <td>0</td>\n",
              "    </tr>\n",
              "    <tr>\n",
              "      <th>4</th>\n",
              "      <td>14260</td>\n",
              "      <td>8</td>\n",
              "      <td>5</td>\n",
              "      <td>1145</td>\n",
              "      <td>2</td>\n",
              "      <td>1</td>\n",
              "      <td>4</td>\n",
              "      <td>9</td>\n",
              "      <td>1</td>\n",
              "      <td>836</td>\n",
              "      <td>1</td>\n",
              "    </tr>\n",
              "  </tbody>\n",
              "</table>\n",
              "</div>"
            ],
            "text/plain": [
              "   LotArea  OverallQual  OverallCond  ...  Fireplaces  GarageArea  AboveMedianPrice\n",
              "0     8450            7            5  ...           0         548                 1\n",
              "1     9600            6            8  ...           1         460                 1\n",
              "2    11250            7            5  ...           1         608                 1\n",
              "3     9550            7            5  ...           1         642                 0\n",
              "4    14260            8            5  ...           1         836                 1\n",
              "\n",
              "[5 rows x 11 columns]"
            ]
          },
          "metadata": {
            "tags": []
          },
          "execution_count": 3
        }
      ]
    },
    {
      "cell_type": "code",
      "metadata": {
        "colab": {
          "base_uri": "https://localhost:8080/"
        },
        "id": "H577j888fam-",
        "outputId": "33bace98-86be-4cd0-e5c4-ab6852a3aea9"
      },
      "source": [
        "# To get properties of data\n",
        "df.info()"
      ],
      "execution_count": null,
      "outputs": [
        {
          "output_type": "stream",
          "text": [
            "<class 'pandas.core.frame.DataFrame'>\n",
            "RangeIndex: 1460 entries, 0 to 1459\n",
            "Data columns (total 11 columns):\n",
            " #   Column            Non-Null Count  Dtype\n",
            "---  ------            --------------  -----\n",
            " 0   LotArea           1460 non-null   int64\n",
            " 1   OverallQual       1460 non-null   int64\n",
            " 2   OverallCond       1460 non-null   int64\n",
            " 3   TotalBsmtSF       1460 non-null   int64\n",
            " 4   FullBath          1460 non-null   int64\n",
            " 5   HalfBath          1460 non-null   int64\n",
            " 6   BedroomAbvGr      1460 non-null   int64\n",
            " 7   TotRmsAbvGrd      1460 non-null   int64\n",
            " 8   Fireplaces        1460 non-null   int64\n",
            " 9   GarageArea        1460 non-null   int64\n",
            " 10  AboveMedianPrice  1460 non-null   int64\n",
            "dtypes: int64(11)\n",
            "memory usage: 125.6 KB\n"
          ],
          "name": "stdout"
        }
      ]
    },
    {
      "cell_type": "code",
      "metadata": {
        "colab": {
          "base_uri": "https://localhost:8080/",
          "height": 297
        },
        "id": "DRqsxdQ7fsED",
        "outputId": "61e39a03-cc32-4f26-e227-753078a7cc31"
      },
      "source": [
        "#\n",
        "df.describe()"
      ],
      "execution_count": null,
      "outputs": [
        {
          "output_type": "execute_result",
          "data": {
            "text/html": [
              "<div>\n",
              "<style scoped>\n",
              "    .dataframe tbody tr th:only-of-type {\n",
              "        vertical-align: middle;\n",
              "    }\n",
              "\n",
              "    .dataframe tbody tr th {\n",
              "        vertical-align: top;\n",
              "    }\n",
              "\n",
              "    .dataframe thead th {\n",
              "        text-align: right;\n",
              "    }\n",
              "</style>\n",
              "<table border=\"1\" class=\"dataframe\">\n",
              "  <thead>\n",
              "    <tr style=\"text-align: right;\">\n",
              "      <th></th>\n",
              "      <th>LotArea</th>\n",
              "      <th>OverallQual</th>\n",
              "      <th>OverallCond</th>\n",
              "      <th>TotalBsmtSF</th>\n",
              "      <th>FullBath</th>\n",
              "      <th>HalfBath</th>\n",
              "      <th>BedroomAbvGr</th>\n",
              "      <th>TotRmsAbvGrd</th>\n",
              "      <th>Fireplaces</th>\n",
              "      <th>GarageArea</th>\n",
              "      <th>AboveMedianPrice</th>\n",
              "    </tr>\n",
              "  </thead>\n",
              "  <tbody>\n",
              "    <tr>\n",
              "      <th>count</th>\n",
              "      <td>1460.000000</td>\n",
              "      <td>1460.000000</td>\n",
              "      <td>1460.000000</td>\n",
              "      <td>1460.000000</td>\n",
              "      <td>1460.000000</td>\n",
              "      <td>1460.000000</td>\n",
              "      <td>1460.000000</td>\n",
              "      <td>1460.000000</td>\n",
              "      <td>1460.000000</td>\n",
              "      <td>1460.000000</td>\n",
              "      <td>1460.000000</td>\n",
              "    </tr>\n",
              "    <tr>\n",
              "      <th>mean</th>\n",
              "      <td>10516.828082</td>\n",
              "      <td>6.099315</td>\n",
              "      <td>5.575342</td>\n",
              "      <td>1057.429452</td>\n",
              "      <td>1.565068</td>\n",
              "      <td>0.382877</td>\n",
              "      <td>2.866438</td>\n",
              "      <td>6.517808</td>\n",
              "      <td>0.613014</td>\n",
              "      <td>472.980137</td>\n",
              "      <td>0.498630</td>\n",
              "    </tr>\n",
              "    <tr>\n",
              "      <th>std</th>\n",
              "      <td>9981.264932</td>\n",
              "      <td>1.382997</td>\n",
              "      <td>1.112799</td>\n",
              "      <td>438.705324</td>\n",
              "      <td>0.550916</td>\n",
              "      <td>0.502885</td>\n",
              "      <td>0.815778</td>\n",
              "      <td>1.625393</td>\n",
              "      <td>0.644666</td>\n",
              "      <td>213.804841</td>\n",
              "      <td>0.500169</td>\n",
              "    </tr>\n",
              "    <tr>\n",
              "      <th>min</th>\n",
              "      <td>1300.000000</td>\n",
              "      <td>1.000000</td>\n",
              "      <td>1.000000</td>\n",
              "      <td>0.000000</td>\n",
              "      <td>0.000000</td>\n",
              "      <td>0.000000</td>\n",
              "      <td>0.000000</td>\n",
              "      <td>2.000000</td>\n",
              "      <td>0.000000</td>\n",
              "      <td>0.000000</td>\n",
              "      <td>0.000000</td>\n",
              "    </tr>\n",
              "    <tr>\n",
              "      <th>25%</th>\n",
              "      <td>7553.500000</td>\n",
              "      <td>5.000000</td>\n",
              "      <td>5.000000</td>\n",
              "      <td>795.750000</td>\n",
              "      <td>1.000000</td>\n",
              "      <td>0.000000</td>\n",
              "      <td>2.000000</td>\n",
              "      <td>5.000000</td>\n",
              "      <td>0.000000</td>\n",
              "      <td>334.500000</td>\n",
              "      <td>0.000000</td>\n",
              "    </tr>\n",
              "    <tr>\n",
              "      <th>50%</th>\n",
              "      <td>9478.500000</td>\n",
              "      <td>6.000000</td>\n",
              "      <td>5.000000</td>\n",
              "      <td>991.500000</td>\n",
              "      <td>2.000000</td>\n",
              "      <td>0.000000</td>\n",
              "      <td>3.000000</td>\n",
              "      <td>6.000000</td>\n",
              "      <td>1.000000</td>\n",
              "      <td>480.000000</td>\n",
              "      <td>0.000000</td>\n",
              "    </tr>\n",
              "    <tr>\n",
              "      <th>75%</th>\n",
              "      <td>11601.500000</td>\n",
              "      <td>7.000000</td>\n",
              "      <td>6.000000</td>\n",
              "      <td>1298.250000</td>\n",
              "      <td>2.000000</td>\n",
              "      <td>1.000000</td>\n",
              "      <td>3.000000</td>\n",
              "      <td>7.000000</td>\n",
              "      <td>1.000000</td>\n",
              "      <td>576.000000</td>\n",
              "      <td>1.000000</td>\n",
              "    </tr>\n",
              "    <tr>\n",
              "      <th>max</th>\n",
              "      <td>215245.000000</td>\n",
              "      <td>10.000000</td>\n",
              "      <td>9.000000</td>\n",
              "      <td>6110.000000</td>\n",
              "      <td>3.000000</td>\n",
              "      <td>2.000000</td>\n",
              "      <td>8.000000</td>\n",
              "      <td>14.000000</td>\n",
              "      <td>3.000000</td>\n",
              "      <td>1418.000000</td>\n",
              "      <td>1.000000</td>\n",
              "    </tr>\n",
              "  </tbody>\n",
              "</table>\n",
              "</div>"
            ],
            "text/plain": [
              "             LotArea  OverallQual  ...   GarageArea  AboveMedianPrice\n",
              "count    1460.000000  1460.000000  ...  1460.000000       1460.000000\n",
              "mean    10516.828082     6.099315  ...   472.980137          0.498630\n",
              "std      9981.264932     1.382997  ...   213.804841          0.500169\n",
              "min      1300.000000     1.000000  ...     0.000000          0.000000\n",
              "25%      7553.500000     5.000000  ...   334.500000          0.000000\n",
              "50%      9478.500000     6.000000  ...   480.000000          0.000000\n",
              "75%     11601.500000     7.000000  ...   576.000000          1.000000\n",
              "max    215245.000000    10.000000  ...  1418.000000          1.000000\n",
              "\n",
              "[8 rows x 11 columns]"
            ]
          },
          "metadata": {
            "tags": []
          },
          "execution_count": 5
        }
      ]
    },
    {
      "cell_type": "code",
      "metadata": {
        "colab": {
          "base_uri": "https://localhost:8080/",
          "height": 610
        },
        "id": "KI2TqfGtfwAj",
        "outputId": "7e85aab6-fcf8-428b-a7b8-0a93cee46270"
      },
      "source": [
        "# To check null values by Visulization\n",
        "plt.figure(figsize=(15,5))\n",
        "sns.heatmap(df.isnull())\n",
        "plt.show()\n",
        "print(df.isnull().sum())"
      ],
      "execution_count": null,
      "outputs": [
        {
          "output_type": "display_data",
          "data": {
            "image/png": "[encoded data removed]",
            "text/plain": [
              "<Figure size 1080x360 with 2 Axes>"
            ]
          },
          "metadata": {
            "tags": [],
            "needs_background": "light"
          }
        },
        {
          "output_type": "stream",
          "text": [
            "LotArea             0\n",
            "OverallQual         0\n",
            "OverallCond         0\n",
            "TotalBsmtSF         0\n",
            "FullBath            0\n",
            "HalfBath            0\n",
            "BedroomAbvGr        0\n",
            "TotRmsAbvGrd        0\n",
            "Fireplaces          0\n",
            "GarageArea          0\n",
            "AboveMedianPrice    0\n",
            "dtype: int64\n"
          ],
          "name": "stdout"
        }
      ]
    },
    {
      "cell_type": "markdown",
      "metadata": {
        "id": "fXi48KAWGTlb"
      },
      "source": [
        "# Seperate input & output from dataset"
      ]
    },
    {
      "cell_type": "code",
      "metadata": {
        "id": "5vtZRpyzf-gi"
      },
      "source": [
        "x=df.drop(\"AboveMedianPrice\",axis=1)\n",
        "y=df[\"AboveMedianPrice\"]"
      ],
      "execution_count": null,
      "outputs": []
    },
    {
      "cell_type": "markdown",
      "metadata": {
        "id": "LiP7ZDjOGZ6S"
      },
      "source": [
        "# Train_test_split data (80%-Training & 20% Testing)"
      ]
    },
    {
      "cell_type": "code",
      "metadata": {
        "id": "E8zOfmK6gOF-"
      },
      "source": [
        "from sklearn.model_selection import train_test_split"
      ],
      "execution_count": null,
      "outputs": []
    },
    {
      "cell_type": "code",
      "metadata": {
        "id": "7AbI9Z7IgaWi"
      },
      "source": [
        "x_train,x_test,y_train,y_test=train_test_split(x,y,random_state=0,test_size=0.2)"
      ],
      "execution_count": null,
      "outputs": []
    },
    {
      "cell_type": "markdown",
      "metadata": {
        "id": "0fquIRRtGjSg"
      },
      "source": [
        "# Scalling input features"
      ]
    },
    {
      "cell_type": "code",
      "metadata": {
        "id": "X_d-5bP4gk3Y"
      },
      "source": [
        "from sklearn.preprocessing import StandardScaler"
      ],
      "execution_count": null,
      "outputs": []
    },
    {
      "cell_type": "code",
      "metadata": {
        "id": "7seZOIkdgrce"
      },
      "source": [
        "ss=StandardScaler()\n",
        "x_train=ss.fit_transform(x_train)\n",
        "x_test=ss.transform(x_test)"
      ],
      "execution_count": null,
      "outputs": []
    },
    {
      "cell_type": "markdown",
      "metadata": {
        "id": "CGN1gU7-Gwek"
      },
      "source": [
        "# To check balance of Output feature"
      ]
    },
    {
      "cell_type": "code",
      "metadata": {
        "colab": {
          "base_uri": "https://localhost:8080/",
          "height": 388
        },
        "id": "TaE0OyFhg7bh",
        "outputId": "3f4891fe-7936-4e40-b4fb-113eb636f67f"
      },
      "source": [
        "plt.figure(figsize=(12,6))\n",
        "sns.countplot(data=df,x=\"AboveMedianPrice\")\n",
        "plt.yticks(df[\"AboveMedianPrice\"].value_counts())\n",
        "plt.show()"
      ],
      "execution_count": null,
      "outputs": [
        {
          "output_type": "display_data",
          "data": {
            "image/png": "[encoded data removed]",
            "text/plain": [
              "<Figure size 864x432 with 1 Axes>"
            ]
          },
          "metadata": {
            "tags": [],
            "needs_background": "light"
          }
        }
      ]
    },
    {
      "cell_type": "markdown",
      "metadata": {
        "id": "gHzuz5W4G9pt"
      },
      "source": [
        "# Create Neural Network"
      ]
    },
    {
      "cell_type": "code",
      "metadata": {
        "id": "ceyQsbxohhiJ"
      },
      "source": [
        "import tensorflow as tf\n"
      ],
      "execution_count": null,
      "outputs": []
    },
    {
      "cell_type": "code",
      "metadata": {
        "id": "GR31uFQxhsEQ"
      },
      "source": [
        "\n",
        "model=tf.keras.Sequential([\n",
        "                           tf.keras.layers.Dense(10,activation='relu',input_shape=(x.shape[1],)),\n",
        "                           tf.keras.layers.Dense(8,activation='relu'),\n",
        "                           tf.keras.layers.Dense(6,activation='relu'),\n",
        "                           tf.keras.layers.Dense(1,activation='sigmoid')\n",
        "\n",
        "])"
      ],
      "execution_count": null,
      "outputs": []
    },
    {
      "cell_type": "markdown",
      "metadata": {
        "id": "mZ6DVHOfHLIz"
      },
      "source": [
        "# To Compile the model"
      ]
    },
    {
      "cell_type": "code",
      "metadata": {
        "id": "6Ss9vy4xiMMp"
      },
      "source": [
        "model.compile(optimizer='adam',loss='binary_crossentropy',metrics=[\"accuracy\"])"
      ],
      "execution_count": null,
      "outputs": []
    },
    {
      "cell_type": "markdown",
      "metadata": {
        "id": "hDskMBowHPZh"
      },
      "source": [
        "# To Train the model"
      ]
    },
    {
      "cell_type": "code",
      "metadata": {
        "colab": {
          "base_uri": "https://localhost:8080/"
        },
        "id": "t9V03YhUiYkR",
        "outputId": "9a516663-fef3-45a9-b5bc-40863c6ea24b"
      },
      "source": [
        "trained_model=model.fit(x_train,y_train,epochs=50,batch_size=50,validation_split=0.2)"
      ],
      "execution_count": null,
      "outputs": [
        {
          "output_type": "stream",
          "text": [
            "Epoch 1/50\n",
            "19/19 [==============================] - 1s 13ms/step - loss: 0.7602 - accuracy: 0.5321 - val_loss: 0.7155 - val_accuracy: 0.6111\n",
            "Epoch 2/50\n",
            "19/19 [==============================] - 0s 3ms/step - loss: 0.7110 - accuracy: 0.5942 - val_loss: 0.6856 - val_accuracy: 0.6368\n",
            "Epoch 3/50\n",
            "19/19 [==============================] - 0s 3ms/step - loss: 0.6794 - accuracy: 0.6349 - val_loss: 0.6626 - val_accuracy: 0.7222\n",
            "Epoch 4/50\n",
            "19/19 [==============================] - 0s 4ms/step - loss: 0.6527 - accuracy: 0.6895 - val_loss: 0.6369 - val_accuracy: 0.7350\n",
            "Epoch 5/50\n",
            "19/19 [==============================] - 0s 3ms/step - loss: 0.6228 - accuracy: 0.7345 - val_loss: 0.6038 - val_accuracy: 0.7863\n",
            "Epoch 6/50\n",
            "19/19 [==============================] - 0s 3ms/step - loss: 0.5854 - accuracy: 0.7794 - val_loss: 0.5633 - val_accuracy: 0.7906\n",
            "Epoch 7/50\n",
            "19/19 [==============================] - 0s 3ms/step - loss: 0.5433 - accuracy: 0.7934 - val_loss: 0.5204 - val_accuracy: 0.7949\n",
            "Epoch 8/50\n",
            "19/19 [==============================] - 0s 3ms/step - loss: 0.4990 - accuracy: 0.8084 - val_loss: 0.4799 - val_accuracy: 0.8205\n",
            "Epoch 9/50\n",
            "19/19 [==============================] - 0s 3ms/step - loss: 0.4577 - accuracy: 0.8405 - val_loss: 0.4432 - val_accuracy: 0.8504\n",
            "Epoch 10/50\n",
            "19/19 [==============================] - 0s 3ms/step - loss: 0.4207 - accuracy: 0.8448 - val_loss: 0.4092 - val_accuracy: 0.8547\n",
            "Epoch 11/50\n",
            "19/19 [==============================] - 0s 4ms/step - loss: 0.3872 - accuracy: 0.8480 - val_loss: 0.3832 - val_accuracy: 0.8590\n",
            "Epoch 12/50\n",
            "19/19 [==============================] - 0s 3ms/step - loss: 0.3598 - accuracy: 0.8555 - val_loss: 0.3614 - val_accuracy: 0.8590\n",
            "Epoch 13/50\n",
            "19/19 [==============================] - 0s 3ms/step - loss: 0.3376 - accuracy: 0.8608 - val_loss: 0.3426 - val_accuracy: 0.8590\n",
            "Epoch 14/50\n",
            "19/19 [==============================] - 0s 3ms/step - loss: 0.3197 - accuracy: 0.8651 - val_loss: 0.3294 - val_accuracy: 0.8590\n",
            "Epoch 15/50\n",
            "19/19 [==============================] - 0s 4ms/step - loss: 0.3051 - accuracy: 0.8715 - val_loss: 0.3200 - val_accuracy: 0.8632\n",
            "Epoch 16/50\n",
            "19/19 [==============================] - 0s 3ms/step - loss: 0.2923 - accuracy: 0.8758 - val_loss: 0.3122 - val_accuracy: 0.8632\n",
            "Epoch 17/50\n",
            "19/19 [==============================] - 0s 3ms/step - loss: 0.2820 - accuracy: 0.8779 - val_loss: 0.3064 - val_accuracy: 0.8675\n",
            "Epoch 18/50\n",
            "19/19 [==============================] - 0s 3ms/step - loss: 0.2720 - accuracy: 0.8822 - val_loss: 0.2990 - val_accuracy: 0.8718\n",
            "Epoch 19/50\n",
            "19/19 [==============================] - 0s 3ms/step - loss: 0.2634 - accuracy: 0.8844 - val_loss: 0.2950 - val_accuracy: 0.8718\n",
            "Epoch 20/50\n",
            "19/19 [==============================] - 0s 4ms/step - loss: 0.2559 - accuracy: 0.8908 - val_loss: 0.2888 - val_accuracy: 0.8761\n",
            "Epoch 21/50\n",
            "19/19 [==============================] - 0s 3ms/step - loss: 0.2488 - accuracy: 0.8919 - val_loss: 0.2848 - val_accuracy: 0.8675\n",
            "Epoch 22/50\n",
            "19/19 [==============================] - 0s 3ms/step - loss: 0.2428 - accuracy: 0.8951 - val_loss: 0.2833 - val_accuracy: 0.8675\n",
            "Epoch 23/50\n",
            "19/19 [==============================] - 0s 3ms/step - loss: 0.2376 - accuracy: 0.8961 - val_loss: 0.2809 - val_accuracy: 0.8675\n",
            "Epoch 24/50\n",
            "19/19 [==============================] - 0s 4ms/step - loss: 0.2323 - accuracy: 0.8951 - val_loss: 0.2766 - val_accuracy: 0.8718\n",
            "Epoch 25/50\n",
            "19/19 [==============================] - 0s 3ms/step - loss: 0.2283 - accuracy: 0.8961 - val_loss: 0.2765 - val_accuracy: 0.8803\n",
            "Epoch 26/50\n",
            "19/19 [==============================] - 0s 3ms/step - loss: 0.2246 - accuracy: 0.8994 - val_loss: 0.2778 - val_accuracy: 0.8761\n",
            "Epoch 27/50\n",
            "19/19 [==============================] - 0s 3ms/step - loss: 0.2216 - accuracy: 0.9004 - val_loss: 0.2747 - val_accuracy: 0.8846\n",
            "Epoch 28/50\n",
            "19/19 [==============================] - 0s 3ms/step - loss: 0.2191 - accuracy: 0.8994 - val_loss: 0.2771 - val_accuracy: 0.8889\n",
            "Epoch 29/50\n",
            "19/19 [==============================] - 0s 3ms/step - loss: 0.2167 - accuracy: 0.9004 - val_loss: 0.2764 - val_accuracy: 0.8889\n",
            "Epoch 30/50\n",
            "19/19 [==============================] - 0s 4ms/step - loss: 0.2145 - accuracy: 0.9026 - val_loss: 0.2780 - val_accuracy: 0.8846\n",
            "Epoch 31/50\n",
            "19/19 [==============================] - 0s 3ms/step - loss: 0.2130 - accuracy: 0.9047 - val_loss: 0.2808 - val_accuracy: 0.8846\n",
            "Epoch 32/50\n",
            "19/19 [==============================] - 0s 4ms/step - loss: 0.2117 - accuracy: 0.9069 - val_loss: 0.2783 - val_accuracy: 0.8889\n",
            "Epoch 33/50\n",
            "19/19 [==============================] - 0s 4ms/step - loss: 0.2105 - accuracy: 0.9069 - val_loss: 0.2815 - val_accuracy: 0.8846\n",
            "Epoch 34/50\n",
            "19/19 [==============================] - 0s 3ms/step - loss: 0.2088 - accuracy: 0.9090 - val_loss: 0.2794 - val_accuracy: 0.8889\n",
            "Epoch 35/50\n",
            "19/19 [==============================] - 0s 3ms/step - loss: 0.2082 - accuracy: 0.9101 - val_loss: 0.2836 - val_accuracy: 0.8932\n",
            "Epoch 36/50\n",
            "19/19 [==============================] - 0s 3ms/step - loss: 0.2070 - accuracy: 0.9101 - val_loss: 0.2844 - val_accuracy: 0.8889\n",
            "Epoch 37/50\n",
            "19/19 [==============================] - 0s 3ms/step - loss: 0.2057 - accuracy: 0.9101 - val_loss: 0.2830 - val_accuracy: 0.8932\n",
            "Epoch 38/50\n",
            "19/19 [==============================] - 0s 3ms/step - loss: 0.2050 - accuracy: 0.9058 - val_loss: 0.2838 - val_accuracy: 0.8932\n",
            "Epoch 39/50\n",
            "19/19 [==============================] - 0s 3ms/step - loss: 0.2043 - accuracy: 0.9111 - val_loss: 0.2856 - val_accuracy: 0.8889\n",
            "Epoch 40/50\n",
            "19/19 [==============================] - 0s 3ms/step - loss: 0.2029 - accuracy: 0.9101 - val_loss: 0.2859 - val_accuracy: 0.8889\n",
            "Epoch 41/50\n",
            "19/19 [==============================] - 0s 3ms/step - loss: 0.2019 - accuracy: 0.9101 - val_loss: 0.2887 - val_accuracy: 0.8889\n",
            "Epoch 42/50\n",
            "19/19 [==============================] - 0s 3ms/step - loss: 0.2012 - accuracy: 0.9133 - val_loss: 0.2888 - val_accuracy: 0.8889\n",
            "Epoch 43/50\n",
            "19/19 [==============================] - 0s 3ms/step - loss: 0.2002 - accuracy: 0.9133 - val_loss: 0.2875 - val_accuracy: 0.8932\n",
            "Epoch 44/50\n",
            "19/19 [==============================] - 0s 3ms/step - loss: 0.1993 - accuracy: 0.9122 - val_loss: 0.2883 - val_accuracy: 0.8889\n",
            "Epoch 45/50\n",
            "19/19 [==============================] - 0s 3ms/step - loss: 0.1989 - accuracy: 0.9101 - val_loss: 0.2932 - val_accuracy: 0.8932\n",
            "Epoch 46/50\n",
            "19/19 [==============================] - 0s 3ms/step - loss: 0.1978 - accuracy: 0.9101 - val_loss: 0.2886 - val_accuracy: 0.8889\n",
            "Epoch 47/50\n",
            "19/19 [==============================] - 0s 3ms/step - loss: 0.1979 - accuracy: 0.9090 - val_loss: 0.2940 - val_accuracy: 0.8889\n",
            "Epoch 48/50\n",
            "19/19 [==============================] - 0s 3ms/step - loss: 0.1972 - accuracy: 0.9101 - val_loss: 0.2881 - val_accuracy: 0.8889\n",
            "Epoch 49/50\n",
            "19/19 [==============================] - 0s 4ms/step - loss: 0.1963 - accuracy: 0.9090 - val_loss: 0.2954 - val_accuracy: 0.8889\n",
            "Epoch 50/50\n",
            "19/19 [==============================] - 0s 3ms/step - loss: 0.1952 - accuracy: 0.9111 - val_loss: 0.2956 - val_accuracy: 0.8889\n"
          ],
          "name": "stdout"
        }
      ]
    },
    {
      "cell_type": "markdown",
      "metadata": {
        "id": "pmxo-uCuHqmb"
      },
      "source": [
        "# Visualized the history of loss of trained_model"
      ]
    },
    {
      "cell_type": "code",
      "metadata": {
        "colab": {
          "base_uri": "https://localhost:8080/",
          "height": 265
        },
        "id": "8-4cQknYimDV",
        "outputId": "93b09866-b5c1-4026-9ce9-d5699b907536"
      },
      "source": [
        "plt.plot(trained_model.history[\"loss\"])\n",
        "plt.plot(trained_model.history[\"val_loss\"])\n",
        "plt.legend([\"Train\",\"val\"],loc=\"upper right\")\n",
        "plt.show()"
      ],
      "execution_count": null,
      "outputs": [
        {
          "output_type": "display_data",
          "data": {
            "image/png": "[encoded data removed]",
            "text/plain": [
              "<Figure size 432x288 with 1 Axes>"
            ]
          },
          "metadata": {
            "tags": [],
            "needs_background": "light"
          }
        }
      ]
    },
    {
      "cell_type": "markdown",
      "metadata": {
        "id": "UrwMhQ8hHwR0"
      },
      "source": [
        "#Visualized the history of accuracy of trained_model"
      ]
    },
    {
      "cell_type": "code",
      "metadata": {
        "colab": {
          "base_uri": "https://localhost:8080/",
          "height": 265
        },
        "id": "gL_j78g9i0Rt",
        "outputId": "a7efb3d6-d85d-4cb6-ecea-e578f5667248"
      },
      "source": [
        "plt.plot(trained_model.history[\"accuracy\"])\n",
        "plt.plot(trained_model.history[\"val_accuracy\"])\n",
        "plt.legend([\"Train\",\"val\"],loc=\"upper right\")\n",
        "plt.show()"
      ],
      "execution_count": null,
      "outputs": [
        {
          "output_type": "display_data",
          "data": {
            "image/png": "[encoded data removed]",
            "text/plain": [
              "<Figure size 432x288 with 1 Axes>"
            ]
          },
          "metadata": {
            "tags": [],
            "needs_background": "light"
          }
        }
      ]
    },
    {
      "cell_type": "markdown",
      "metadata": {
        "id": "9Dm31WqJH2cG"
      },
      "source": [
        "# To Test the model\n"
      ]
    },
    {
      "cell_type": "code",
      "metadata": {
        "id": "j82Vqid2jC7G"
      },
      "source": [
        "y_pred=model.predict(x_test)"
      ],
      "execution_count": null,
      "outputs": []
    },
    {
      "cell_type": "code",
      "metadata": {
        "colab": {
          "base_uri": "https://localhost:8080/"
        },
        "id": "8ah2clgAjOl6",
        "outputId": "183fa035-c679-44a5-bc3e-e3bccffe8ab2"
      },
      "source": [
        "y_pred=np.where(y_pred>0.5,1,0)\n",
        "print(y_pred[0:5])"
      ],
      "execution_count": null,
      "outputs": [
        {
          "output_type": "stream",
          "text": [
            "[[1]\n",
            " [0]\n",
            " [0]\n",
            " [1]\n",
            " [0]]\n"
          ],
          "name": "stdout"
        }
      ]
    },
    {
      "cell_type": "code",
      "metadata": {
        "colab": {
          "base_uri": "https://localhost:8080/"
        },
        "id": "hxs_AdZ1jWgf",
        "outputId": "a4f17a69-7d22-4f98-9769-ac70151adee3"
      },
      "source": [
        "print(y_test[0:5])"
      ],
      "execution_count": null,
      "outputs": [
        {
          "output_type": "stream",
          "text": [
            "529    1\n",
            "491    0\n",
            "459    0\n",
            "279    1\n",
            "655    0\n",
            "Name: AboveMedianPrice, dtype: int64\n"
          ],
          "name": "stdout"
        }
      ]
    },
    {
      "cell_type": "markdown",
      "metadata": {
        "id": "c-QYTxEsH83k"
      },
      "source": [
        "# To generate report"
      ]
    },
    {
      "cell_type": "code",
      "metadata": {
        "id": "oBzDM5YCjaDR"
      },
      "source": [
        "from sklearn.metrics import classification_report,confusion_matrix"
      ],
      "execution_count": null,
      "outputs": []
    },
    {
      "cell_type": "code",
      "metadata": {
        "colab": {
          "base_uri": "https://localhost:8080/"
        },
        "id": "md4wpZlIjiyH",
        "outputId": "75189d80-2999-436b-a7ef-2bbee8794e6f"
      },
      "source": [
        "print(classification_report(y_test,y_pred))\n",
        "print(\"\\nConfusion Matrix\")\n",
        "print(confusion_matrix(y_test,y_pred))"
      ],
      "execution_count": null,
      "outputs": [
        {
          "output_type": "stream",
          "text": [
            "              precision    recall  f1-score   support\n",
            "\n",
            "           0       0.93      0.89      0.91       145\n",
            "           1       0.90      0.93      0.91       147\n",
            "\n",
            "    accuracy                           0.91       292\n",
            "   macro avg       0.91      0.91      0.91       292\n",
            "weighted avg       0.91      0.91      0.91       292\n",
            "\n",
            "\n",
            "Confusion Matrix\n",
            "[[129  16]\n",
            " [ 10 137]]\n"
          ],
          "name": "stdout"
        }
      ]
    },
    {
      "cell_type": "markdown",
      "metadata": {
        "id": "CGeVlZNlIGKf"
      },
      "source": [
        "# Our model seems to be overfit.\n",
        "# To reduced problem of overfit we will add some error by ussing regullarization technique "
      ]
    },
    {
      "cell_type": "code",
      "metadata": {
        "id": "kr4yXanlkZxX"
      },
      "source": [
        "from keras.layers import Dropout\n",
        "from keras import regularizers"
      ],
      "execution_count": null,
      "outputs": []
    },
    {
      "cell_type": "markdown",
      "metadata": {
        "id": "neJXtxTyIlV3"
      },
      "source": [
        "# Train the model after applying regularization & dropout technique "
      ]
    },
    {
      "cell_type": "code",
      "metadata": {
        "id": "ZSNDoQlQkjdF"
      },
      "source": [
        "# Create Neural Network\n",
        "\n",
        "\n",
        "model2=tf.keras.Sequential([\n",
        "                            tf.keras.layers.Dense(1000,activation='relu',kernel_regularizer=regularizers.l2(0.02),input_shape=(x.shape[1],)),\n",
        "                            Dropout(0.3),\n",
        "                            tf.keras.layers.Dense(1000,activation='relu',kernel_regularizer=regularizers.l2(0.02)),\n",
        "                            Dropout(0.3),\n",
        "                            tf.keras.layers.Dense(1000,activation='relu',kernel_regularizer=regularizers.l2(0.02)),\n",
        "                            Dropout(0.3),\n",
        "                            tf.keras.layers.Dense(1000,activation='relu',kernel_regularizer=regularizers.l2(0.02)),\n",
        "                            Dropout(0.3),\n",
        "                            tf.keras.layers.Dense(1,activation='sigmoid',kernel_regularizer=regularizers.l2(0.02))\n",
        "                            \n",
        "])"
      ],
      "execution_count": null,
      "outputs": []
    },
    {
      "cell_type": "code",
      "metadata": {
        "id": "47y86slUlK3j"
      },
      "source": [
        "# Compile model\n",
        "model2.compile(optimizer='adam',loss='binary_crossentropy',metrics=[\"accuracy\"])"
      ],
      "execution_count": null,
      "outputs": []
    },
    {
      "cell_type": "code",
      "metadata": {
        "colab": {
          "base_uri": "https://localhost:8080/"
        },
        "id": "1kOZMXbzle4U",
        "outputId": "09b2e707-1560-4d59-d72c-527ac5f49368"
      },
      "source": [
        "# Train the model\n",
        "trained_model2=model2.fit(x_train,y_train,epochs=50,validation_split=0.2)"
      ],
      "execution_count": null,
      "outputs": [
        {
          "output_type": "stream",
          "text": [
            "Epoch 1/50\n",
            "30/30 [==============================] - 2s 52ms/step - loss: 29.5445 - accuracy: 0.8469 - val_loss: 8.3197 - val_accuracy: 0.8718\n",
            "Epoch 2/50\n",
            "30/30 [==============================] - 1s 45ms/step - loss: 3.3738 - accuracy: 0.8961 - val_loss: 0.9229 - val_accuracy: 0.8846\n",
            "Epoch 3/50\n",
            "30/30 [==============================] - 1s 46ms/step - loss: 0.6206 - accuracy: 0.8972 - val_loss: 0.5283 - val_accuracy: 0.8761\n",
            "Epoch 4/50\n",
            "30/30 [==============================] - 1s 45ms/step - loss: 0.4877 - accuracy: 0.9015 - val_loss: 0.5040 - val_accuracy: 0.8632\n",
            "Epoch 5/50\n",
            "30/30 [==============================] - 1s 44ms/step - loss: 0.4663 - accuracy: 0.8983 - val_loss: 0.5226 - val_accuracy: 0.8761\n",
            "Epoch 6/50\n",
            "30/30 [==============================] - 1s 44ms/step - loss: 0.4771 - accuracy: 0.8961 - val_loss: 0.4910 - val_accuracy: 0.8675\n",
            "Epoch 7/50\n",
            "30/30 [==============================] - 1s 46ms/step - loss: 0.4635 - accuracy: 0.8940 - val_loss: 0.4841 - val_accuracy: 0.8846\n",
            "Epoch 8/50\n",
            "30/30 [==============================] - 1s 45ms/step - loss: 0.4603 - accuracy: 0.8876 - val_loss: 0.4813 - val_accuracy: 0.8718\n",
            "Epoch 9/50\n",
            "30/30 [==============================] - 1s 45ms/step - loss: 0.4762 - accuracy: 0.8919 - val_loss: 0.4805 - val_accuracy: 0.8889\n",
            "Epoch 10/50\n",
            "30/30 [==============================] - 1s 46ms/step - loss: 0.4642 - accuracy: 0.8833 - val_loss: 0.5341 - val_accuracy: 0.8547\n",
            "Epoch 11/50\n",
            "30/30 [==============================] - 1s 44ms/step - loss: 0.4617 - accuracy: 0.8833 - val_loss: 0.4647 - val_accuracy: 0.8718\n",
            "Epoch 12/50\n",
            "30/30 [==============================] - 1s 45ms/step - loss: 0.4326 - accuracy: 0.8994 - val_loss: 0.4582 - val_accuracy: 0.8761\n",
            "Epoch 13/50\n",
            "30/30 [==============================] - 1s 46ms/step - loss: 0.4459 - accuracy: 0.8897 - val_loss: 0.5243 - val_accuracy: 0.8590\n",
            "Epoch 14/50\n",
            "30/30 [==============================] - 1s 45ms/step - loss: 0.4553 - accuracy: 0.8887 - val_loss: 0.4672 - val_accuracy: 0.8803\n",
            "Epoch 15/50\n",
            "30/30 [==============================] - 1s 45ms/step - loss: 0.4364 - accuracy: 0.8951 - val_loss: 0.4626 - val_accuracy: 0.8761\n",
            "Epoch 16/50\n",
            "30/30 [==============================] - 1s 47ms/step - loss: 0.4303 - accuracy: 0.8983 - val_loss: 0.5001 - val_accuracy: 0.8718\n",
            "Epoch 17/50\n",
            "30/30 [==============================] - 1s 45ms/step - loss: 0.4524 - accuracy: 0.8854 - val_loss: 0.4562 - val_accuracy: 0.8675\n",
            "Epoch 18/50\n",
            "30/30 [==============================] - 1s 45ms/step - loss: 0.4469 - accuracy: 0.8908 - val_loss: 0.4590 - val_accuracy: 0.8675\n",
            "Epoch 19/50\n",
            "30/30 [==============================] - 1s 44ms/step - loss: 0.4391 - accuracy: 0.8940 - val_loss: 0.4827 - val_accuracy: 0.8803\n",
            "Epoch 20/50\n",
            "30/30 [==============================] - 1s 44ms/step - loss: 0.4518 - accuracy: 0.8919 - val_loss: 0.4697 - val_accuracy: 0.8761\n",
            "Epoch 21/50\n",
            "30/30 [==============================] - 1s 44ms/step - loss: 0.4422 - accuracy: 0.8919 - val_loss: 0.4701 - val_accuracy: 0.8803\n",
            "Epoch 22/50\n",
            "30/30 [==============================] - 1s 45ms/step - loss: 0.4368 - accuracy: 0.8940 - val_loss: 0.4806 - val_accuracy: 0.8675\n",
            "Epoch 23/50\n",
            "30/30 [==============================] - 1s 45ms/step - loss: 0.4403 - accuracy: 0.8961 - val_loss: 0.4518 - val_accuracy: 0.8761\n",
            "Epoch 24/50\n",
            "30/30 [==============================] - 1s 45ms/step - loss: 0.4502 - accuracy: 0.8908 - val_loss: 0.4453 - val_accuracy: 0.8761\n",
            "Epoch 25/50\n",
            "30/30 [==============================] - 1s 44ms/step - loss: 0.4335 - accuracy: 0.8940 - val_loss: 0.4855 - val_accuracy: 0.8718\n",
            "Epoch 26/50\n",
            "30/30 [==============================] - 1s 45ms/step - loss: 0.4413 - accuracy: 0.8854 - val_loss: 0.4528 - val_accuracy: 0.8761\n",
            "Epoch 27/50\n",
            "30/30 [==============================] - 1s 45ms/step - loss: 0.4361 - accuracy: 0.8876 - val_loss: 0.5382 - val_accuracy: 0.8462\n",
            "Epoch 28/50\n",
            "30/30 [==============================] - 1s 44ms/step - loss: 0.4419 - accuracy: 0.8951 - val_loss: 0.4598 - val_accuracy: 0.8803\n",
            "Epoch 29/50\n",
            "30/30 [==============================] - 1s 45ms/step - loss: 0.4323 - accuracy: 0.8929 - val_loss: 0.4448 - val_accuracy: 0.8846\n",
            "Epoch 30/50\n",
            "30/30 [==============================] - 1s 44ms/step - loss: 0.4549 - accuracy: 0.8887 - val_loss: 0.4482 - val_accuracy: 0.8718\n",
            "Epoch 31/50\n",
            "30/30 [==============================] - 1s 45ms/step - loss: 0.4443 - accuracy: 0.8865 - val_loss: 0.4434 - val_accuracy: 0.8718\n",
            "Epoch 32/50\n",
            "30/30 [==============================] - 1s 45ms/step - loss: 0.4214 - accuracy: 0.8961 - val_loss: 0.4475 - val_accuracy: 0.8803\n",
            "Epoch 33/50\n",
            "30/30 [==============================] - 1s 45ms/step - loss: 0.4216 - accuracy: 0.8983 - val_loss: 0.4504 - val_accuracy: 0.8803\n",
            "Epoch 34/50\n",
            "30/30 [==============================] - 1s 45ms/step - loss: 0.4340 - accuracy: 0.8908 - val_loss: 0.4442 - val_accuracy: 0.8803\n",
            "Epoch 35/50\n",
            "30/30 [==============================] - 1s 45ms/step - loss: 0.4291 - accuracy: 0.8897 - val_loss: 0.4992 - val_accuracy: 0.8632\n",
            "Epoch 36/50\n",
            "30/30 [==============================] - 1s 44ms/step - loss: 0.4573 - accuracy: 0.8844 - val_loss: 0.5296 - val_accuracy: 0.8547\n",
            "Epoch 37/50\n",
            "30/30 [==============================] - 1s 45ms/step - loss: 0.4464 - accuracy: 0.8940 - val_loss: 0.4472 - val_accuracy: 0.8761\n",
            "Epoch 38/50\n",
            "30/30 [==============================] - 1s 44ms/step - loss: 0.4283 - accuracy: 0.8940 - val_loss: 0.4493 - val_accuracy: 0.8846\n",
            "Epoch 39/50\n",
            "30/30 [==============================] - 1s 45ms/step - loss: 0.4265 - accuracy: 0.8865 - val_loss: 0.4415 - val_accuracy: 0.8846\n",
            "Epoch 40/50\n",
            "30/30 [==============================] - 1s 43ms/step - loss: 0.4396 - accuracy: 0.8812 - val_loss: 0.4961 - val_accuracy: 0.8632\n",
            "Epoch 41/50\n",
            "30/30 [==============================] - 1s 44ms/step - loss: 0.4273 - accuracy: 0.8929 - val_loss: 0.4403 - val_accuracy: 0.8761\n",
            "Epoch 42/50\n",
            "30/30 [==============================] - 1s 44ms/step - loss: 0.4280 - accuracy: 0.8833 - val_loss: 0.4359 - val_accuracy: 0.8718\n",
            "Epoch 43/50\n",
            "30/30 [==============================] - 1s 44ms/step - loss: 0.4160 - accuracy: 0.8994 - val_loss: 0.4372 - val_accuracy: 0.8889\n",
            "Epoch 44/50\n",
            "30/30 [==============================] - 1s 45ms/step - loss: 0.4260 - accuracy: 0.8822 - val_loss: 0.4418 - val_accuracy: 0.8932\n",
            "Epoch 45/50\n",
            "30/30 [==============================] - 1s 45ms/step - loss: 0.4216 - accuracy: 0.8919 - val_loss: 0.4448 - val_accuracy: 0.8803\n",
            "Epoch 46/50\n",
            "30/30 [==============================] - 1s 45ms/step - loss: 0.4439 - accuracy: 0.8801 - val_loss: 0.4833 - val_accuracy: 0.8718\n",
            "Epoch 47/50\n",
            "30/30 [==============================] - 1s 45ms/step - loss: 0.4278 - accuracy: 0.8865 - val_loss: 0.4434 - val_accuracy: 0.8846\n",
            "Epoch 48/50\n",
            "30/30 [==============================] - 1s 45ms/step - loss: 0.4168 - accuracy: 0.8897 - val_loss: 0.4290 - val_accuracy: 0.8932\n",
            "Epoch 49/50\n",
            "30/30 [==============================] - 1s 44ms/step - loss: 0.4423 - accuracy: 0.8833 - val_loss: 0.4410 - val_accuracy: 0.8846\n",
            "Epoch 50/50\n",
            "30/30 [==============================] - 1s 45ms/step - loss: 0.4243 - accuracy: 0.8940 - val_loss: 0.4358 - val_accuracy: 0.8761\n"
          ],
          "name": "stdout"
        }
      ]
    },
    {
      "cell_type": "code",
      "metadata": {
        "colab": {
          "base_uri": "https://localhost:8080/",
          "height": 265
        },
        "id": "MjHt8dZ3lqef",
        "outputId": "515ba491-5ac2-4552-b650-9b6764082586"
      },
      "source": [
        "# Visualized the history of loss of trained_model\n",
        "plt.plot(trained_model2.history[\"loss\"])\n",
        "plt.plot(trained_model2.history[\"val_loss\"])\n",
        "plt.legend([\"Train\",\"val\"],loc=\"upper right\")\n",
        "plt.show()"
      ],
      "execution_count": null,
      "outputs": [
        {
          "output_type": "display_data",
          "data": {
            "image/png": "[encoded data removed]",
            "text/plain": [
              "<Figure size 432x288 with 1 Axes>"
            ]
          },
          "metadata": {
            "tags": [],
            "needs_background": "light"
          }
        }
      ]
    },
    {
      "cell_type": "code",
      "metadata": {
        "colab": {
          "base_uri": "https://localhost:8080/",
          "height": 265
        },
        "id": "ghsTBWZPmcbZ",
        "outputId": "fe0bff0d-3149-4407-dd25-0a401b75d0be"
      },
      "source": [
        "#Visualized the history of accuracy of trained_model\n",
        "plt.plot(trained_model2.history[\"accuracy\"])\n",
        "plt.plot(trained_model2.history[\"val_accuracy\"])\n",
        "plt.legend([\"Train\",\"val\"],loc=\"upper right\")\n",
        "plt.show()"
      ],
      "execution_count": null,
      "outputs": [
        {
          "output_type": "display_data",
          "data": {
            "image/png": "[encoded data removed]",
            "text/plain": [
              "<Figure size 432x288 with 1 Axes>"
            ]
          },
          "metadata": {
            "tags": [],
            "needs_background": "light"
          }
        }
      ]
    },
    {
      "cell_type": "markdown",
      "metadata": {
        "id": "0RlwSbq_JbFM"
      },
      "source": [
        "# To test the model"
      ]
    },
    {
      "cell_type": "code",
      "metadata": {
        "id": "3bMQec_Kmhy3"
      },
      "source": [
        "y_pred=model2.predict(x_test)"
      ],
      "execution_count": null,
      "outputs": []
    },
    {
      "cell_type": "code",
      "metadata": {
        "colab": {
          "base_uri": "https://localhost:8080/"
        },
        "id": "sI_Bw6aimwUd",
        "outputId": "5409c046-4b92-4880-aa23-d3acda86b042"
      },
      "source": [
        "y_pred=np.where(y_pred>0.5,1,0)\n",
        "print(y_pred[0:5])"
      ],
      "execution_count": null,
      "outputs": [
        {
          "output_type": "stream",
          "text": [
            "[[1]\n",
            " [0]\n",
            " [0]\n",
            " [1]\n",
            " [0]]\n"
          ],
          "name": "stdout"
        }
      ]
    },
    {
      "cell_type": "code",
      "metadata": {
        "colab": {
          "base_uri": "https://localhost:8080/"
        },
        "id": "4Dl8pzNInA9J",
        "outputId": "abc66963-2889-4b84-ea0c-89ee176fa35e"
      },
      "source": [
        "print(y_test[0:5])"
      ],
      "execution_count": null,
      "outputs": [
        {
          "output_type": "stream",
          "text": [
            "529    1\n",
            "491    0\n",
            "459    0\n",
            "279    1\n",
            "655    0\n",
            "Name: AboveMedianPrice, dtype: int64\n"
          ],
          "name": "stdout"
        }
      ]
    },
    {
      "cell_type": "markdown",
      "metadata": {
        "id": "Kx8oFgn9JoG9"
      },
      "source": [
        "# To Generte report"
      ]
    },
    {
      "cell_type": "code",
      "metadata": {
        "colab": {
          "base_uri": "https://localhost:8080/"
        },
        "id": "Jt-We5V7nEGA",
        "outputId": "61c84120-62ca-49f5-fff6-c201df4ebb5f"
      },
      "source": [
        "print(classification_report(y_test,y_pred))\n",
        "print(\"\\nConfusion Matrix\")\n",
        "print(confusion_matrix(y_test,y_pred))"
      ],
      "execution_count": null,
      "outputs": [
        {
          "output_type": "stream",
          "text": [
            "              precision    recall  f1-score   support\n",
            "\n",
            "           0       0.95      0.88      0.91       145\n",
            "           1       0.89      0.95      0.92       147\n",
            "\n",
            "    accuracy                           0.92       292\n",
            "   macro avg       0.92      0.92      0.92       292\n",
            "weighted avg       0.92      0.92      0.92       292\n",
            "\n",
            "\n",
            "Confusion Matrix\n",
            "[[128  17]\n",
            " [  7 140]]\n"
          ],
          "name": "stdout"
        }
      ]
    },
    {
      "cell_type": "code",
      "metadata": {
        "id": "HCpndouUnUaK"
      },
      "source": [
        ""
      ],
      "execution_count": null,
      "outputs": []
    }
  ]
}