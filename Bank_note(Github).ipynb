{
  "nbformat": 4,
  "nbformat_minor": 0,
  "metadata": {
    "colab": {
      "name": "Bank_note(Github).ipynb",
      "provenance": [],
      "collapsed_sections": [],
      "toc_visible": true
    },
    "kernelspec": {
      "name": "python3",
      "display_name": "Python 3"
    },
    "language_info": {
      "name": "python"
    }
  },
  "cells": [
    {
      "cell_type": "markdown",
      "metadata": {
        "id": "p-4vEuKAKjbX"
      },
      "source": [
        "# Import basic libraries & Load the data "
      ]
    },
    {
      "cell_type": "code",
      "metadata": {
        "id": "v6jxVDLzKLv6"
      },
      "source": [
        "# Import of basic libraries\n",
        "import numpy as np\n",
        "import pandas as pd\n",
        "import matplotlib.pyplot as plt\n",
        "import seaborn as sns\n",
        "import tensorflow as tf"
      ],
      "execution_count": null,
      "outputs": []
    },
    {
      "cell_type": "code",
      "metadata": {
        "id": "1__Szx9YTSQB"
      },
      "source": [
        "# Load the data\n",
        "df=pd.read_csv(\"/content/drive/MyDrive/Deep_learning_Projects/BankNote_Authentication.csv\")"
      ],
      "execution_count": null,
      "outputs": []
    },
    {
      "cell_type": "markdown",
      "metadata": {
        "id": "uoGsrKsBKvXp"
      },
      "source": [
        "# Data Preprocessing"
      ]
    },
    {
      "cell_type": "code",
      "metadata": {
        "colab": {
          "base_uri": "https://localhost:8080/",
          "height": 204
        },
        "id": "Dn4020nXT5ZU",
        "outputId": "59d21361-273a-480c-bf23-927045373186"
      },
      "source": [
        "# To get first five data\n",
        "df.head()"
      ],
      "execution_count": null,
      "outputs": [
        {
          "output_type": "execute_result",
          "data": {
            "text/html": [
              "<div>\n",
              "<style scoped>\n",
              "    .dataframe tbody tr th:only-of-type {\n",
              "        vertical-align: middle;\n",
              "    }\n",
              "\n",
              "    .dataframe tbody tr th {\n",
              "        vertical-align: top;\n",
              "    }\n",
              "\n",
              "    .dataframe thead th {\n",
              "        text-align: right;\n",
              "    }\n",
              "</style>\n",
              "<table border=\"1\" class=\"dataframe\">\n",
              "  <thead>\n",
              "    <tr style=\"text-align: right;\">\n",
              "      <th></th>\n",
              "      <th>variance</th>\n",
              "      <th>skewness</th>\n",
              "      <th>curtosis</th>\n",
              "      <th>entropy</th>\n",
              "      <th>class</th>\n",
              "    </tr>\n",
              "  </thead>\n",
              "  <tbody>\n",
              "    <tr>\n",
              "      <th>0</th>\n",
              "      <td>3.62160</td>\n",
              "      <td>8.6661</td>\n",
              "      <td>-2.8073</td>\n",
              "      <td>-0.44699</td>\n",
              "      <td>0</td>\n",
              "    </tr>\n",
              "    <tr>\n",
              "      <th>1</th>\n",
              "      <td>4.54590</td>\n",
              "      <td>8.1674</td>\n",
              "      <td>-2.4586</td>\n",
              "      <td>-1.46210</td>\n",
              "      <td>0</td>\n",
              "    </tr>\n",
              "    <tr>\n",
              "      <th>2</th>\n",
              "      <td>3.86600</td>\n",
              "      <td>-2.6383</td>\n",
              "      <td>1.9242</td>\n",
              "      <td>0.10645</td>\n",
              "      <td>0</td>\n",
              "    </tr>\n",
              "    <tr>\n",
              "      <th>3</th>\n",
              "      <td>3.45660</td>\n",
              "      <td>9.5228</td>\n",
              "      <td>-4.0112</td>\n",
              "      <td>-3.59440</td>\n",
              "      <td>0</td>\n",
              "    </tr>\n",
              "    <tr>\n",
              "      <th>4</th>\n",
              "      <td>0.32924</td>\n",
              "      <td>-4.4552</td>\n",
              "      <td>4.5718</td>\n",
              "      <td>-0.98880</td>\n",
              "      <td>0</td>\n",
              "    </tr>\n",
              "  </tbody>\n",
              "</table>\n",
              "</div>"
            ],
            "text/plain": [
              "   variance  skewness  curtosis  entropy  class\n",
              "0   3.62160    8.6661   -2.8073 -0.44699      0\n",
              "1   4.54590    8.1674   -2.4586 -1.46210      0\n",
              "2   3.86600   -2.6383    1.9242  0.10645      0\n",
              "3   3.45660    9.5228   -4.0112 -3.59440      0\n",
              "4   0.32924   -4.4552    4.5718 -0.98880      0"
            ]
          },
          "metadata": {
            "tags": []
          },
          "execution_count": 75
        }
      ]
    },
    {
      "cell_type": "code",
      "metadata": {
        "colab": {
          "base_uri": "https://localhost:8080/"
        },
        "id": "xoZ94XMdT8uP",
        "outputId": "310a99d1-9d4c-4f65-9933-52ac2b2ce138"
      },
      "source": [
        "# To get properties of data\n",
        "df.info()"
      ],
      "execution_count": null,
      "outputs": [
        {
          "output_type": "stream",
          "text": [
            "<class 'pandas.core.frame.DataFrame'>\n",
            "RangeIndex: 1372 entries, 0 to 1371\n",
            "Data columns (total 5 columns):\n",
            " #   Column    Non-Null Count  Dtype  \n",
            "---  ------    --------------  -----  \n",
            " 0   variance  1372 non-null   float64\n",
            " 1   skewness  1372 non-null   float64\n",
            " 2   curtosis  1372 non-null   float64\n",
            " 3   entropy   1372 non-null   float64\n",
            " 4   class     1372 non-null   int64  \n",
            "dtypes: float64(4), int64(1)\n",
            "memory usage: 53.7 KB\n"
          ],
          "name": "stdout"
        }
      ]
    },
    {
      "cell_type": "code",
      "metadata": {
        "colab": {
          "base_uri": "https://localhost:8080/",
          "height": 324
        },
        "id": "JKbda-WCUAun",
        "outputId": "1ca871e9-3bc9-4318-c9f7-c0a22d6b69b8"
      },
      "source": [
        "# visulization of null Values by using heatmap\n",
        "plt.figure(figsize=(16,5))\n",
        "sns.heatmap(df.isnull())\n",
        "plt.show()"
      ],
      "execution_count": null,
      "outputs": [
        {
          "output_type": "display_data",
          "data": {
            "image/png": "[encoded data removed]",
            "text/plain": [
              "<Figure size 1152x360 with 2 Axes>"
            ]
          },
          "metadata": {
            "tags": [],
            "needs_background": "light"
          }
        }
      ]
    },
    {
      "cell_type": "code",
      "metadata": {
        "colab": {
          "base_uri": "https://localhost:8080/"
        },
        "id": "9z_xXprdULJ-",
        "outputId": "24dd06b1-5329-4cd6-ca0b-7e66d1061568"
      },
      "source": [
        "# Null values in %\n",
        "df.isnull().sum()/df.shape[0]*100"
      ],
      "execution_count": null,
      "outputs": [
        {
          "output_type": "execute_result",
          "data": {
            "text/plain": [
              "variance    0\n",
              "skewness    0\n",
              "curtosis    0\n",
              "entropy     0\n",
              "class       0\n",
              "dtype: int64"
            ]
          },
          "metadata": {
            "tags": []
          },
          "execution_count": 78
        }
      ]
    },
    {
      "cell_type": "code",
      "metadata": {
        "colab": {
          "base_uri": "https://localhost:8080/",
          "height": 334
        },
        "id": "yVzXu7yYUOui",
        "outputId": "97e5d17a-33b9-4984-f604-38665da0913d"
      },
      "source": [
        "# To check balance of output feature \n",
        "plt.figure(figsize=(10,5))\n",
        "sns.countplot(data=df,x=\"class\")\n",
        "plt.yticks(df[\"class\"].value_counts())\n",
        "plt.show()"
      ],
      "execution_count": null,
      "outputs": [
        {
          "output_type": "display_data",
          "data": {
            "image/png": "[encoded data removed]",
            "text/plain": [
              "<Figure size 720x360 with 1 Axes>"
            ]
          },
          "metadata": {
            "tags": [],
            "needs_background": "light"
          }
        }
      ]
    },
    {
      "cell_type": "code",
      "metadata": {
        "colab": {
          "base_uri": "https://localhost:8080/",
          "height": 324
        },
        "id": "UNmuSKwtoidr",
        "outputId": "14ccd7a1-52d4-43ad-bcad-58bf114621e4"
      },
      "source": [
        "# To Correlationship of input & output Features\n",
        "plt.figure(figsize=(16,5))\n",
        "sns.heatmap(data=df.corr(),annot=True)\n",
        "plt.show()"
      ],
      "execution_count": null,
      "outputs": [
        {
          "output_type": "display_data",
          "data": {
            "image/png": "[encoded data removed]",
            "text/plain": [
              "<Figure size 1152x360 with 2 Axes>"
            ]
          },
          "metadata": {
            "tags": [],
            "needs_background": "light"
          }
        }
      ]
    },
    {
      "cell_type": "markdown",
      "metadata": {
        "id": "xr6mdPelLu3h"
      },
      "source": [
        "#Seperate input & output from dataset"
      ]
    },
    {
      "cell_type": "code",
      "metadata": {
        "id": "VzoaVsY1UcDu"
      },
      "source": [
        "x=df.drop(\"class\",axis=1)\n",
        "y=df[\"class\"]"
      ],
      "execution_count": null,
      "outputs": []
    },
    {
      "cell_type": "code",
      "metadata": {
        "colab": {
          "base_uri": "https://localhost:8080/",
          "height": 204
        },
        "id": "KJ6as2s9UxL6",
        "outputId": "76e706e9-2359-4165-f0ab-c87aaed1ea0f"
      },
      "source": [
        "x.head()"
      ],
      "execution_count": null,
      "outputs": [
        {
          "output_type": "execute_result",
          "data": {
            "text/html": [
              "<div>\n",
              "<style scoped>\n",
              "    .dataframe tbody tr th:only-of-type {\n",
              "        vertical-align: middle;\n",
              "    }\n",
              "\n",
              "    .dataframe tbody tr th {\n",
              "        vertical-align: top;\n",
              "    }\n",
              "\n",
              "    .dataframe thead th {\n",
              "        text-align: right;\n",
              "    }\n",
              "</style>\n",
              "<table border=\"1\" class=\"dataframe\">\n",
              "  <thead>\n",
              "    <tr style=\"text-align: right;\">\n",
              "      <th></th>\n",
              "      <th>variance</th>\n",
              "      <th>skewness</th>\n",
              "      <th>curtosis</th>\n",
              "      <th>entropy</th>\n",
              "    </tr>\n",
              "  </thead>\n",
              "  <tbody>\n",
              "    <tr>\n",
              "      <th>0</th>\n",
              "      <td>3.62160</td>\n",
              "      <td>8.6661</td>\n",
              "      <td>-2.8073</td>\n",
              "      <td>-0.44699</td>\n",
              "    </tr>\n",
              "    <tr>\n",
              "      <th>1</th>\n",
              "      <td>4.54590</td>\n",
              "      <td>8.1674</td>\n",
              "      <td>-2.4586</td>\n",
              "      <td>-1.46210</td>\n",
              "    </tr>\n",
              "    <tr>\n",
              "      <th>2</th>\n",
              "      <td>3.86600</td>\n",
              "      <td>-2.6383</td>\n",
              "      <td>1.9242</td>\n",
              "      <td>0.10645</td>\n",
              "    </tr>\n",
              "    <tr>\n",
              "      <th>3</th>\n",
              "      <td>3.45660</td>\n",
              "      <td>9.5228</td>\n",
              "      <td>-4.0112</td>\n",
              "      <td>-3.59440</td>\n",
              "    </tr>\n",
              "    <tr>\n",
              "      <th>4</th>\n",
              "      <td>0.32924</td>\n",
              "      <td>-4.4552</td>\n",
              "      <td>4.5718</td>\n",
              "      <td>-0.98880</td>\n",
              "    </tr>\n",
              "  </tbody>\n",
              "</table>\n",
              "</div>"
            ],
            "text/plain": [
              "   variance  skewness  curtosis  entropy\n",
              "0   3.62160    8.6661   -2.8073 -0.44699\n",
              "1   4.54590    8.1674   -2.4586 -1.46210\n",
              "2   3.86600   -2.6383    1.9242  0.10645\n",
              "3   3.45660    9.5228   -4.0112 -3.59440\n",
              "4   0.32924   -4.4552    4.5718 -0.98880"
            ]
          },
          "metadata": {
            "tags": []
          },
          "execution_count": 82
        }
      ]
    },
    {
      "cell_type": "code",
      "metadata": {
        "colab": {
          "base_uri": "https://localhost:8080/"
        },
        "id": "nXtfbW-oUzXu",
        "outputId": "885052ee-caa2-414b-d605-8bb055fca662"
      },
      "source": [
        "y.head()"
      ],
      "execution_count": null,
      "outputs": [
        {
          "output_type": "execute_result",
          "data": {
            "text/plain": [
              "0    0\n",
              "1    0\n",
              "2    0\n",
              "3    0\n",
              "4    0\n",
              "Name: class, dtype: int64"
            ]
          },
          "metadata": {
            "tags": []
          },
          "execution_count": 83
        }
      ]
    },
    {
      "cell_type": "markdown",
      "metadata": {
        "id": "sZlfFEAlL9TQ"
      },
      "source": [
        "\n",
        "\n",
        "# Train_test_split data (80%-Training & 20% Testing)"
      ]
    },
    {
      "cell_type": "code",
      "metadata": {
        "id": "RMILU0RMU3xb"
      },
      "source": [
        "from sklearn.model_selection import train_test_split\n"
      ],
      "execution_count": null,
      "outputs": []
    },
    {
      "cell_type": "code",
      "metadata": {
        "id": "QUJtojB9U9gi"
      },
      "source": [
        "x_train,x_test,y_train,y_test=train_test_split(x,y,random_state=0,test_size=0.2)"
      ],
      "execution_count": null,
      "outputs": []
    },
    {
      "cell_type": "markdown",
      "metadata": {
        "id": "YvfR3Y7xMDrP"
      },
      "source": [
        "# Scalling Input Features"
      ]
    },
    {
      "cell_type": "code",
      "metadata": {
        "id": "y9x4DXK8Vnsj"
      },
      "source": [
        "from sklearn.preprocessing import StandardScaler"
      ],
      "execution_count": null,
      "outputs": []
    },
    {
      "cell_type": "code",
      "metadata": {
        "id": "K1Covfz3VvBE"
      },
      "source": [
        "ss=StandardScaler()"
      ],
      "execution_count": null,
      "outputs": []
    },
    {
      "cell_type": "code",
      "metadata": {
        "id": "xgOmHzs8Vxbu"
      },
      "source": [
        "x_train=ss.fit_transform(x_train)\n",
        "x_test=ss.transform(x_test)"
      ],
      "execution_count": null,
      "outputs": []
    },
    {
      "cell_type": "code",
      "metadata": {
        "colab": {
          "base_uri": "https://localhost:8080/"
        },
        "id": "-TtX7p6UV8hT",
        "outputId": "480d4a2a-836f-4525-e8d4-bc9a51690965"
      },
      "source": [
        "x_train"
      ],
      "execution_count": null,
      "outputs": [
        {
          "output_type": "execute_result",
          "data": {
            "text/plain": [
              "array([[-0.60234962,  0.13706318, -0.52441296, -0.41116219],\n",
              "       [-0.291035  ,  0.21026408, -1.02368742, -0.72585061],\n",
              "       [-0.68266235, -1.4422953 ,  1.02948859,  0.98074362],\n",
              "       ...,\n",
              "       [ 0.06363093, -0.15181461, -0.8474923 ,  0.60907164],\n",
              "       [ 0.5613238 , -0.36784698,  0.89144827,  1.07801487],\n",
              "       [-0.87706484,  1.54323822,  0.29632752, -1.75475574]])"
            ]
          },
          "metadata": {
            "tags": []
          },
          "execution_count": 89
        }
      ]
    },
    {
      "cell_type": "code",
      "metadata": {
        "colab": {
          "base_uri": "https://localhost:8080/"
        },
        "id": "TxPZdYZfV_LF",
        "outputId": "2df3c259-0203-4612-e4c3-823660a261dc"
      },
      "source": [
        "x_test"
      ],
      "execution_count": null,
      "outputs": [
        {
          "output_type": "execute_result",
          "data": {
            "text/plain": [
              "array([[-0.77000464, -2.18217308,  2.08030018,  0.08130195],\n",
              "       [ 1.65638872, -0.32963963, -0.24955469,  1.09660204],\n",
              "       [-0.85562469,  0.31202402, -0.78293531, -1.301957  ],\n",
              "       ...,\n",
              "       [-0.90845183,  0.19704581, -0.89473831, -0.59885426],\n",
              "       [ 0.02407911,  0.29131655, -1.3598972 , -1.26353714],\n",
              "       [-1.68223069,  0.72303272, -0.19163475, -2.05646189]])"
            ]
          },
          "metadata": {
            "tags": []
          },
          "execution_count": 90
        }
      ]
    },
    {
      "cell_type": "markdown",
      "metadata": {
        "id": "aTy-4MvkMRf4"
      },
      "source": [
        "# Check balance of output feature"
      ]
    },
    {
      "cell_type": "code",
      "metadata": {
        "colab": {
          "base_uri": "https://localhost:8080/"
        },
        "id": "7QZ4nCEVWBhi",
        "outputId": "3b31b4bb-8bac-424e-d6ef-cbebb0096dce"
      },
      "source": [
        "pd.Series(y_train).value_counts()"
      ],
      "execution_count": null,
      "outputs": [
        {
          "output_type": "execute_result",
          "data": {
            "text/plain": [
              "0    605\n",
              "1    492\n",
              "Name: class, dtype: int64"
            ]
          },
          "metadata": {
            "tags": []
          },
          "execution_count": 91
        }
      ]
    },
    {
      "cell_type": "code",
      "metadata": {
        "colab": {
          "base_uri": "https://localhost:8080/"
        },
        "id": "gaVVbsywWQNk",
        "outputId": "03b8b1d7-a4c4-4f5b-be55-810620ecfbc3"
      },
      "source": [
        "pd.Series(y_test).value_counts()"
      ],
      "execution_count": null,
      "outputs": [
        {
          "output_type": "execute_result",
          "data": {
            "text/plain": [
              "0    157\n",
              "1    118\n",
              "Name: class, dtype: int64"
            ]
          },
          "metadata": {
            "tags": []
          },
          "execution_count": 92
        }
      ]
    },
    {
      "cell_type": "markdown",
      "metadata": {
        "id": "suvvTH-1Mghz"
      },
      "source": [
        "# Balance output feature"
      ]
    },
    {
      "cell_type": "code",
      "metadata": {
        "id": "Max3DKqwWdVM"
      },
      "source": [
        "from imblearn.over_sampling import RandomOverSampler"
      ],
      "execution_count": null,
      "outputs": []
    },
    {
      "cell_type": "code",
      "metadata": {
        "id": "GbOqnnkrWo5g"
      },
      "source": [
        "ros=RandomOverSampler()"
      ],
      "execution_count": null,
      "outputs": []
    },
    {
      "cell_type": "code",
      "metadata": {
        "colab": {
          "base_uri": "https://localhost:8080/"
        },
        "id": "QxfWpVWlWv4W",
        "outputId": "29c75abb-31c0-4eb3-e27d-6d90a77b1c7b"
      },
      "source": [
        "x_train_sample,y_train_sample=ros.fit_resample(x_train,y_train)\n",
        "x_test_sample,y_test_sample=ros.fit_resample(x_test,y_test)"
      ],
      "execution_count": null,
      "outputs": [
        {
          "output_type": "stream",
          "text": [
            "/usr/local/lib/python3.7/dist-packages/sklearn/utils/deprecation.py:87: FutureWarning: Function safe_indexing is deprecated; safe_indexing is deprecated in version 0.22 and will be removed in version 0.24.\n",
            "  warnings.warn(msg, category=FutureWarning)\n",
            "/usr/local/lib/python3.7/dist-packages/sklearn/utils/deprecation.py:87: FutureWarning: Function safe_indexing is deprecated; safe_indexing is deprecated in version 0.22 and will be removed in version 0.24.\n",
            "  warnings.warn(msg, category=FutureWarning)\n"
          ],
          "name": "stderr"
        }
      ]
    },
    {
      "cell_type": "markdown",
      "metadata": {
        "id": "Ga-DLQ7QMsWx"
      },
      "source": [
        "# Create Neural Network"
      ]
    },
    {
      "cell_type": "code",
      "metadata": {
        "id": "liYErqisXKN5"
      },
      "source": [
        "import keras\n",
        "\n"
      ],
      "execution_count": null,
      "outputs": []
    },
    {
      "cell_type": "code",
      "metadata": {
        "id": "ASt-wnirXy8o"
      },
      "source": [
        "model=tf.keras.Sequential([\n",
        "            tf.keras.layers.Dense(12,activation='relu',input_shape=(x.shape[1],)),# input_shape function bring input data to hidden layer   12 are neurons                                                                                            \n",
        "            tf.keras.layers.Dense(24,activation='relu'),\n",
        "            tf.keras.layers.Dense(36,activation='relu'),\n",
        "            tf.keras.layers.Dense(1,activation='sigmoid') # activation function is mathematical equations that determine output of neural network.\n",
        "])"
      ],
      "execution_count": null,
      "outputs": []
    },
    {
      "cell_type": "markdown",
      "metadata": {
        "id": "E9N9htU3M76Y"
      },
      "source": [
        "# Compile the model"
      ]
    },
    {
      "cell_type": "code",
      "metadata": {
        "id": "aWQ3VmGubhCA"
      },
      "source": [
        "model.compile(optimizer=\"adam\",loss=\"binary_crossentropy\",metrics=[\"accuracy\"])\n"
      ],
      "execution_count": null,
      "outputs": []
    },
    {
      "cell_type": "markdown",
      "metadata": {
        "id": "2026St48NFMS"
      },
      "source": [
        "# Train the model"
      ]
    },
    {
      "cell_type": "code",
      "metadata": {
        "colab": {
          "base_uri": "https://localhost:8080/"
        },
        "id": "l1Mpi7MEbwcq",
        "outputId": "36ff60e1-fb87-4cf3-be55-8ab6123e5fdd"
      },
      "source": [
        "train_model=model.fit(x_train_sample,y_train_sample,epochs=100,validation_split=0.2)\n",
        "#An epoch means training the neural network with all the training data for one cycle."
      ],
      "execution_count": null,
      "outputs": [
        {
          "output_type": "stream",
          "text": [
            "Epoch 1/100\n",
            "31/31 [==============================] - 1s 6ms/step - loss: 0.6362 - accuracy: 0.7603 - val_loss: 0.6170 - val_accuracy: 0.6983\n",
            "Epoch 2/100\n",
            "31/31 [==============================] - 0s 2ms/step - loss: 0.5238 - accuracy: 0.8657 - val_loss: 0.4849 - val_accuracy: 0.8388\n",
            "Epoch 3/100\n",
            "31/31 [==============================] - 0s 3ms/step - loss: 0.3668 - accuracy: 0.9246 - val_loss: 0.2668 - val_accuracy: 0.9628\n",
            "Epoch 4/100\n",
            "31/31 [==============================] - 0s 2ms/step - loss: 0.2114 - accuracy: 0.9545 - val_loss: 0.1467 - val_accuracy: 0.9793\n",
            "Epoch 5/100\n",
            "31/31 [==============================] - 0s 3ms/step - loss: 0.1255 - accuracy: 0.9607 - val_loss: 0.0773 - val_accuracy: 0.9917\n",
            "Epoch 6/100\n",
            "31/31 [==============================] - 0s 3ms/step - loss: 0.0839 - accuracy: 0.9731 - val_loss: 0.0524 - val_accuracy: 0.9917\n",
            "Epoch 7/100\n",
            "31/31 [==============================] - 0s 2ms/step - loss: 0.0626 - accuracy: 0.9742 - val_loss: 0.0372 - val_accuracy: 0.9959\n",
            "Epoch 8/100\n",
            "31/31 [==============================] - 0s 2ms/step - loss: 0.0490 - accuracy: 0.9824 - val_loss: 0.0349 - val_accuracy: 0.9959\n",
            "Epoch 9/100\n",
            "31/31 [==============================] - 0s 2ms/step - loss: 0.0397 - accuracy: 0.9928 - val_loss: 0.0222 - val_accuracy: 1.0000\n",
            "Epoch 10/100\n",
            "31/31 [==============================] - 0s 2ms/step - loss: 0.0310 - accuracy: 0.9928 - val_loss: 0.0165 - val_accuracy: 1.0000\n",
            "Epoch 11/100\n",
            "31/31 [==============================] - 0s 2ms/step - loss: 0.0245 - accuracy: 0.9948 - val_loss: 0.0142 - val_accuracy: 1.0000\n",
            "Epoch 12/100\n",
            "31/31 [==============================] - 0s 2ms/step - loss: 0.0190 - accuracy: 1.0000 - val_loss: 0.0149 - val_accuracy: 1.0000\n",
            "Epoch 13/100\n",
            "31/31 [==============================] - 0s 2ms/step - loss: 0.0153 - accuracy: 1.0000 - val_loss: 0.0096 - val_accuracy: 1.0000\n",
            "Epoch 14/100\n",
            "31/31 [==============================] - 0s 2ms/step - loss: 0.0123 - accuracy: 1.0000 - val_loss: 0.0081 - val_accuracy: 1.0000\n",
            "Epoch 15/100\n",
            "31/31 [==============================] - 0s 2ms/step - loss: 0.0102 - accuracy: 1.0000 - val_loss: 0.0058 - val_accuracy: 1.0000\n",
            "Epoch 16/100\n",
            "31/31 [==============================] - 0s 2ms/step - loss: 0.0082 - accuracy: 1.0000 - val_loss: 0.0065 - val_accuracy: 1.0000\n",
            "Epoch 17/100\n",
            "31/31 [==============================] - 0s 2ms/step - loss: 0.0069 - accuracy: 1.0000 - val_loss: 0.0055 - val_accuracy: 1.0000\n",
            "Epoch 18/100\n",
            "31/31 [==============================] - 0s 2ms/step - loss: 0.0059 - accuracy: 1.0000 - val_loss: 0.0041 - val_accuracy: 1.0000\n",
            "Epoch 19/100\n",
            "31/31 [==============================] - 0s 2ms/step - loss: 0.0051 - accuracy: 1.0000 - val_loss: 0.0039 - val_accuracy: 1.0000\n",
            "Epoch 20/100\n",
            "31/31 [==============================] - 0s 2ms/step - loss: 0.0043 - accuracy: 1.0000 - val_loss: 0.0030 - val_accuracy: 1.0000\n",
            "Epoch 21/100\n",
            "31/31 [==============================] - 0s 2ms/step - loss: 0.0037 - accuracy: 1.0000 - val_loss: 0.0032 - val_accuracy: 1.0000\n",
            "Epoch 22/100\n",
            "31/31 [==============================] - 0s 3ms/step - loss: 0.0033 - accuracy: 1.0000 - val_loss: 0.0025 - val_accuracy: 1.0000\n",
            "Epoch 23/100\n",
            "31/31 [==============================] - 0s 3ms/step - loss: 0.0029 - accuracy: 1.0000 - val_loss: 0.0025 - val_accuracy: 1.0000\n",
            "Epoch 24/100\n",
            "31/31 [==============================] - 0s 2ms/step - loss: 0.0026 - accuracy: 1.0000 - val_loss: 0.0019 - val_accuracy: 1.0000\n",
            "Epoch 25/100\n",
            "31/31 [==============================] - 0s 2ms/step - loss: 0.0024 - accuracy: 1.0000 - val_loss: 0.0018 - val_accuracy: 1.0000\n",
            "Epoch 26/100\n",
            "31/31 [==============================] - 0s 2ms/step - loss: 0.0021 - accuracy: 1.0000 - val_loss: 0.0017 - val_accuracy: 1.0000\n",
            "Epoch 27/100\n",
            "31/31 [==============================] - 0s 2ms/step - loss: 0.0019 - accuracy: 1.0000 - val_loss: 0.0014 - val_accuracy: 1.0000\n",
            "Epoch 28/100\n",
            "31/31 [==============================] - 0s 2ms/step - loss: 0.0017 - accuracy: 1.0000 - val_loss: 0.0013 - val_accuracy: 1.0000\n",
            "Epoch 29/100\n",
            "31/31 [==============================] - 0s 3ms/step - loss: 0.0016 - accuracy: 1.0000 - val_loss: 0.0012 - val_accuracy: 1.0000\n",
            "Epoch 30/100\n",
            "31/31 [==============================] - 0s 2ms/step - loss: 0.0015 - accuracy: 1.0000 - val_loss: 0.0010 - val_accuracy: 1.0000\n",
            "Epoch 31/100\n",
            "31/31 [==============================] - 0s 2ms/step - loss: 0.0014 - accuracy: 1.0000 - val_loss: 0.0011 - val_accuracy: 1.0000\n",
            "Epoch 32/100\n",
            "31/31 [==============================] - 0s 3ms/step - loss: 0.0012 - accuracy: 1.0000 - val_loss: 9.6844e-04 - val_accuracy: 1.0000\n",
            "Epoch 33/100\n",
            "31/31 [==============================] - 0s 2ms/step - loss: 0.0012 - accuracy: 1.0000 - val_loss: 8.6366e-04 - val_accuracy: 1.0000\n",
            "Epoch 34/100\n",
            "31/31 [==============================] - 0s 2ms/step - loss: 0.0011 - accuracy: 1.0000 - val_loss: 7.8110e-04 - val_accuracy: 1.0000\n",
            "Epoch 35/100\n",
            "31/31 [==============================] - 0s 2ms/step - loss: 9.9252e-04 - accuracy: 1.0000 - val_loss: 7.8712e-04 - val_accuracy: 1.0000\n",
            "Epoch 36/100\n",
            "31/31 [==============================] - 0s 3ms/step - loss: 9.2882e-04 - accuracy: 1.0000 - val_loss: 6.9920e-04 - val_accuracy: 1.0000\n",
            "Epoch 37/100\n",
            "31/31 [==============================] - 0s 3ms/step - loss: 8.7616e-04 - accuracy: 1.0000 - val_loss: 7.3871e-04 - val_accuracy: 1.0000\n",
            "Epoch 38/100\n",
            "31/31 [==============================] - 0s 2ms/step - loss: 8.2299e-04 - accuracy: 1.0000 - val_loss: 5.6818e-04 - val_accuracy: 1.0000\n",
            "Epoch 39/100\n",
            "31/31 [==============================] - 0s 3ms/step - loss: 7.5960e-04 - accuracy: 1.0000 - val_loss: 5.8880e-04 - val_accuracy: 1.0000\n",
            "Epoch 40/100\n",
            "31/31 [==============================] - 0s 2ms/step - loss: 7.2188e-04 - accuracy: 1.0000 - val_loss: 5.5698e-04 - val_accuracy: 1.0000\n",
            "Epoch 41/100\n",
            "31/31 [==============================] - 0s 3ms/step - loss: 6.7458e-04 - accuracy: 1.0000 - val_loss: 5.0161e-04 - val_accuracy: 1.0000\n",
            "Epoch 42/100\n",
            "31/31 [==============================] - 0s 3ms/step - loss: 6.3472e-04 - accuracy: 1.0000 - val_loss: 4.7883e-04 - val_accuracy: 1.0000\n",
            "Epoch 43/100\n",
            "31/31 [==============================] - 0s 3ms/step - loss: 6.1131e-04 - accuracy: 1.0000 - val_loss: 4.5918e-04 - val_accuracy: 1.0000\n",
            "Epoch 44/100\n",
            "31/31 [==============================] - 0s 2ms/step - loss: 5.6674e-04 - accuracy: 1.0000 - val_loss: 3.9398e-04 - val_accuracy: 1.0000\n",
            "Epoch 45/100\n",
            "31/31 [==============================] - 0s 3ms/step - loss: 5.3885e-04 - accuracy: 1.0000 - val_loss: 3.9793e-04 - val_accuracy: 1.0000\n",
            "Epoch 46/100\n",
            "31/31 [==============================] - 0s 2ms/step - loss: 5.1962e-04 - accuracy: 1.0000 - val_loss: 3.8253e-04 - val_accuracy: 1.0000\n",
            "Epoch 47/100\n",
            "31/31 [==============================] - 0s 3ms/step - loss: 4.8928e-04 - accuracy: 1.0000 - val_loss: 3.5028e-04 - val_accuracy: 1.0000\n",
            "Epoch 48/100\n",
            "31/31 [==============================] - 0s 3ms/step - loss: 4.7046e-04 - accuracy: 1.0000 - val_loss: 3.5147e-04 - val_accuracy: 1.0000\n",
            "Epoch 49/100\n",
            "31/31 [==============================] - 0s 3ms/step - loss: 4.4022e-04 - accuracy: 1.0000 - val_loss: 3.0478e-04 - val_accuracy: 1.0000\n",
            "Epoch 50/100\n",
            "31/31 [==============================] - 0s 2ms/step - loss: 4.2527e-04 - accuracy: 1.0000 - val_loss: 2.8837e-04 - val_accuracy: 1.0000\n",
            "Epoch 51/100\n",
            "31/31 [==============================] - 0s 3ms/step - loss: 3.9640e-04 - accuracy: 1.0000 - val_loss: 2.9603e-04 - val_accuracy: 1.0000\n",
            "Epoch 52/100\n",
            "31/31 [==============================] - 0s 3ms/step - loss: 3.7434e-04 - accuracy: 1.0000 - val_loss: 3.0626e-04 - val_accuracy: 1.0000\n",
            "Epoch 53/100\n",
            "31/31 [==============================] - 0s 3ms/step - loss: 3.6144e-04 - accuracy: 1.0000 - val_loss: 2.9071e-04 - val_accuracy: 1.0000\n",
            "Epoch 54/100\n",
            "31/31 [==============================] - 0s 3ms/step - loss: 3.4883e-04 - accuracy: 1.0000 - val_loss: 2.7068e-04 - val_accuracy: 1.0000\n",
            "Epoch 55/100\n",
            "31/31 [==============================] - 0s 2ms/step - loss: 3.3356e-04 - accuracy: 1.0000 - val_loss: 2.4470e-04 - val_accuracy: 1.0000\n",
            "Epoch 56/100\n",
            "31/31 [==============================] - 0s 3ms/step - loss: 3.1488e-04 - accuracy: 1.0000 - val_loss: 2.3367e-04 - val_accuracy: 1.0000\n",
            "Epoch 57/100\n",
            "31/31 [==============================] - 0s 3ms/step - loss: 3.0348e-04 - accuracy: 1.0000 - val_loss: 2.1896e-04 - val_accuracy: 1.0000\n",
            "Epoch 58/100\n",
            "31/31 [==============================] - 0s 2ms/step - loss: 2.9196e-04 - accuracy: 1.0000 - val_loss: 2.4387e-04 - val_accuracy: 1.0000\n",
            "Epoch 59/100\n",
            "31/31 [==============================] - 0s 2ms/step - loss: 2.7759e-04 - accuracy: 1.0000 - val_loss: 2.3179e-04 - val_accuracy: 1.0000\n",
            "Epoch 60/100\n",
            "31/31 [==============================] - 0s 3ms/step - loss: 2.6338e-04 - accuracy: 1.0000 - val_loss: 1.8832e-04 - val_accuracy: 1.0000\n",
            "Epoch 61/100\n",
            "31/31 [==============================] - 0s 2ms/step - loss: 2.5521e-04 - accuracy: 1.0000 - val_loss: 1.7869e-04 - val_accuracy: 1.0000\n",
            "Epoch 62/100\n",
            "31/31 [==============================] - 0s 3ms/step - loss: 2.4306e-04 - accuracy: 1.0000 - val_loss: 1.8901e-04 - val_accuracy: 1.0000\n",
            "Epoch 63/100\n",
            "31/31 [==============================] - 0s 2ms/step - loss: 2.3448e-04 - accuracy: 1.0000 - val_loss: 1.7263e-04 - val_accuracy: 1.0000\n",
            "Epoch 64/100\n",
            "31/31 [==============================] - 0s 3ms/step - loss: 2.2656e-04 - accuracy: 1.0000 - val_loss: 1.6763e-04 - val_accuracy: 1.0000\n",
            "Epoch 65/100\n",
            "31/31 [==============================] - 0s 3ms/step - loss: 2.1686e-04 - accuracy: 1.0000 - val_loss: 1.5888e-04 - val_accuracy: 1.0000\n",
            "Epoch 66/100\n",
            "31/31 [==============================] - 0s 2ms/step - loss: 2.0817e-04 - accuracy: 1.0000 - val_loss: 1.5366e-04 - val_accuracy: 1.0000\n",
            "Epoch 67/100\n",
            "31/31 [==============================] - 0s 2ms/step - loss: 2.0780e-04 - accuracy: 1.0000 - val_loss: 1.6801e-04 - val_accuracy: 1.0000\n",
            "Epoch 68/100\n",
            "31/31 [==============================] - 0s 2ms/step - loss: 1.9782e-04 - accuracy: 1.0000 - val_loss: 1.3604e-04 - val_accuracy: 1.0000\n",
            "Epoch 69/100\n",
            "31/31 [==============================] - 0s 3ms/step - loss: 1.8613e-04 - accuracy: 1.0000 - val_loss: 1.4438e-04 - val_accuracy: 1.0000\n",
            "Epoch 70/100\n",
            "31/31 [==============================] - 0s 2ms/step - loss: 1.7905e-04 - accuracy: 1.0000 - val_loss: 1.3481e-04 - val_accuracy: 1.0000\n",
            "Epoch 71/100\n",
            "31/31 [==============================] - 0s 3ms/step - loss: 1.7242e-04 - accuracy: 1.0000 - val_loss: 1.2940e-04 - val_accuracy: 1.0000\n",
            "Epoch 72/100\n",
            "31/31 [==============================] - 0s 2ms/step - loss: 1.6669e-04 - accuracy: 1.0000 - val_loss: 1.2296e-04 - val_accuracy: 1.0000\n",
            "Epoch 73/100\n",
            "31/31 [==============================] - 0s 3ms/step - loss: 1.6025e-04 - accuracy: 1.0000 - val_loss: 1.2221e-04 - val_accuracy: 1.0000\n",
            "Epoch 74/100\n",
            "31/31 [==============================] - 0s 2ms/step - loss: 1.5527e-04 - accuracy: 1.0000 - val_loss: 1.1118e-04 - val_accuracy: 1.0000\n",
            "Epoch 75/100\n",
            "31/31 [==============================] - 0s 2ms/step - loss: 1.5081e-04 - accuracy: 1.0000 - val_loss: 1.1063e-04 - val_accuracy: 1.0000\n",
            "Epoch 76/100\n",
            "31/31 [==============================] - 0s 2ms/step - loss: 1.4443e-04 - accuracy: 1.0000 - val_loss: 1.0625e-04 - val_accuracy: 1.0000\n",
            "Epoch 77/100\n",
            "31/31 [==============================] - 0s 2ms/step - loss: 1.3940e-04 - accuracy: 1.0000 - val_loss: 1.0198e-04 - val_accuracy: 1.0000\n",
            "Epoch 78/100\n",
            "31/31 [==============================] - 0s 3ms/step - loss: 1.3579e-04 - accuracy: 1.0000 - val_loss: 1.0136e-04 - val_accuracy: 1.0000\n",
            "Epoch 79/100\n",
            "31/31 [==============================] - 0s 2ms/step - loss: 1.3202e-04 - accuracy: 1.0000 - val_loss: 9.2254e-05 - val_accuracy: 1.0000\n",
            "Epoch 80/100\n",
            "31/31 [==============================] - 0s 3ms/step - loss: 1.2637e-04 - accuracy: 1.0000 - val_loss: 9.1158e-05 - val_accuracy: 1.0000\n",
            "Epoch 81/100\n",
            "31/31 [==============================] - 0s 2ms/step - loss: 1.2221e-04 - accuracy: 1.0000 - val_loss: 8.8339e-05 - val_accuracy: 1.0000\n",
            "Epoch 82/100\n",
            "31/31 [==============================] - 0s 3ms/step - loss: 1.1743e-04 - accuracy: 1.0000 - val_loss: 8.6540e-05 - val_accuracy: 1.0000\n",
            "Epoch 83/100\n",
            "31/31 [==============================] - 0s 2ms/step - loss: 1.1178e-04 - accuracy: 1.0000 - val_loss: 8.2286e-05 - val_accuracy: 1.0000\n",
            "Epoch 84/100\n",
            "31/31 [==============================] - 0s 2ms/step - loss: 1.0703e-04 - accuracy: 1.0000 - val_loss: 8.0199e-05 - val_accuracy: 1.0000\n",
            "Epoch 85/100\n",
            "31/31 [==============================] - 0s 3ms/step - loss: 1.0341e-04 - accuracy: 1.0000 - val_loss: 7.6760e-05 - val_accuracy: 1.0000\n",
            "Epoch 86/100\n",
            "31/31 [==============================] - 0s 3ms/step - loss: 9.8913e-05 - accuracy: 1.0000 - val_loss: 7.3429e-05 - val_accuracy: 1.0000\n",
            "Epoch 87/100\n",
            "31/31 [==============================] - 0s 3ms/step - loss: 9.7040e-05 - accuracy: 1.0000 - val_loss: 7.3987e-05 - val_accuracy: 1.0000\n",
            "Epoch 88/100\n",
            "31/31 [==============================] - 0s 2ms/step - loss: 9.5447e-05 - accuracy: 1.0000 - val_loss: 6.1107e-05 - val_accuracy: 1.0000\n",
            "Epoch 89/100\n",
            "31/31 [==============================] - 0s 3ms/step - loss: 8.9291e-05 - accuracy: 1.0000 - val_loss: 6.1897e-05 - val_accuracy: 1.0000\n",
            "Epoch 90/100\n",
            "31/31 [==============================] - 0s 3ms/step - loss: 8.6270e-05 - accuracy: 1.0000 - val_loss: 5.8858e-05 - val_accuracy: 1.0000\n",
            "Epoch 91/100\n",
            "31/31 [==============================] - 0s 2ms/step - loss: 8.3583e-05 - accuracy: 1.0000 - val_loss: 5.5403e-05 - val_accuracy: 1.0000\n",
            "Epoch 92/100\n",
            "31/31 [==============================] - 0s 3ms/step - loss: 8.0521e-05 - accuracy: 1.0000 - val_loss: 5.6737e-05 - val_accuracy: 1.0000\n",
            "Epoch 93/100\n",
            "31/31 [==============================] - 0s 2ms/step - loss: 7.8337e-05 - accuracy: 1.0000 - val_loss: 5.8310e-05 - val_accuracy: 1.0000\n",
            "Epoch 94/100\n",
            "31/31 [==============================] - 0s 3ms/step - loss: 7.5542e-05 - accuracy: 1.0000 - val_loss: 5.3936e-05 - val_accuracy: 1.0000\n",
            "Epoch 95/100\n",
            "31/31 [==============================] - 0s 2ms/step - loss: 7.3235e-05 - accuracy: 1.0000 - val_loss: 5.1536e-05 - val_accuracy: 1.0000\n",
            "Epoch 96/100\n",
            "31/31 [==============================] - 0s 3ms/step - loss: 7.0973e-05 - accuracy: 1.0000 - val_loss: 4.7841e-05 - val_accuracy: 1.0000\n",
            "Epoch 97/100\n",
            "31/31 [==============================] - 0s 3ms/step - loss: 6.9167e-05 - accuracy: 1.0000 - val_loss: 4.5849e-05 - val_accuracy: 1.0000\n",
            "Epoch 98/100\n",
            "31/31 [==============================] - 0s 2ms/step - loss: 6.6924e-05 - accuracy: 1.0000 - val_loss: 4.5646e-05 - val_accuracy: 1.0000\n",
            "Epoch 99/100\n",
            "31/31 [==============================] - 0s 2ms/step - loss: 6.5827e-05 - accuracy: 1.0000 - val_loss: 4.3619e-05 - val_accuracy: 1.0000\n",
            "Epoch 100/100\n",
            "31/31 [==============================] - 0s 2ms/step - loss: 6.3917e-05 - accuracy: 1.0000 - val_loss: 4.3546e-05 - val_accuracy: 1.0000\n"
          ],
          "name": "stdout"
        }
      ]
    },
    {
      "cell_type": "markdown",
      "metadata": {
        "id": "npNAc7ZzNraQ"
      },
      "source": [
        "# Visualized the history of loss of trained_model"
      ]
    },
    {
      "cell_type": "code",
      "metadata": {
        "colab": {
          "base_uri": "https://localhost:8080/",
          "height": 295
        },
        "id": "UwsalPX7cdnx",
        "outputId": "0dc27d1c-9ac5-46a8-c4bf-2b3bdf941ca9"
      },
      "source": [
        "plt.plot(train_model.history[\"loss\"])\n",
        "plt.plot(train_model.history[\"val_loss\"])\n",
        "plt.title(\"Model of Loss\")\n",
        "plt.xlabel(\"Loss\")\n",
        "plt.ylabel(\"epochs\")\n",
        "plt.legend([\"Train\",\"val\"],loc=\"upper right\")\n",
        "plt.show()"
      ],
      "execution_count": null,
      "outputs": [
        {
          "output_type": "display_data",
          "data": {
            "image/png": "[encoded data removed]",
            "text/plain": [
              "<Figure size 432x288 with 1 Axes>"
            ]
          },
          "metadata": {
            "tags": [],
            "needs_background": "light"
          }
        }
      ]
    },
    {
      "cell_type": "markdown",
      "metadata": {
        "id": "i2czxCt7NvOR"
      },
      "source": [
        "# Visualized the history of accuracy of trained_model"
      ]
    },
    {
      "cell_type": "code",
      "metadata": {
        "colab": {
          "base_uri": "https://localhost:8080/",
          "height": 295
        },
        "id": "GLHSL8NadG10",
        "outputId": "9545ee6e-0230-4f38-c255-a1280e56add1"
      },
      "source": [
        "plt.plot(train_model.history[\"accuracy\"])\n",
        "plt.plot(train_model.history[\"val_accuracy\"])\n",
        "plt.title(\"Model of Accuracy\")\n",
        "plt.xlabel(\"Accuracy\")\n",
        "plt.ylabel(\"Epochs\")\n",
        "plt.legend([\"Train\",\"val\"],loc=\"upper right\")\n",
        "plt.show()"
      ],
      "execution_count": null,
      "outputs": [
        {
          "output_type": "display_data",
          "data": {
            "image/png": "[encoded data removed]",
            "text/plain": [
              "<Figure size 432x288 with 1 Axes>"
            ]
          },
          "metadata": {
            "tags": [],
            "needs_background": "light"
          }
        }
      ]
    },
    {
      "cell_type": "markdown",
      "metadata": {
        "id": "CjM-Tk0CN0oz"
      },
      "source": [
        "# Test the model"
      ]
    },
    {
      "cell_type": "code",
      "metadata": {
        "colab": {
          "base_uri": "https://localhost:8080/"
        },
        "id": "bhu0ygx5eFzP",
        "outputId": "41f96b13-649f-4722-d624-0c7149e0cd13"
      },
      "source": [
        "y_pred=model.predict(x_test_sample)\n",
        "print(y_pred[0:5])"
      ],
      "execution_count": null,
      "outputs": [
        {
          "output_type": "stream",
          "text": [
            "[[9.9998450e-01]\n",
            " [3.1598495e-07]\n",
            " [9.9999899e-01]\n",
            " [1.8984028e-06]\n",
            " [4.3267690e-07]]\n"
          ],
          "name": "stdout"
        }
      ]
    },
    {
      "cell_type": "code",
      "metadata": {
        "colab": {
          "base_uri": "https://localhost:8080/"
        },
        "id": "9MGRQDBZeU12",
        "outputId": "2d5101f1-49f5-4b9e-a3c3-20bc6a38eb96"
      },
      "source": [
        "y_pred=np.where(y_pred>0.5,1,0) # data into probabilty form\n",
        "print(y_pred[0:5])"
      ],
      "execution_count": null,
      "outputs": [
        {
          "output_type": "stream",
          "text": [
            "[[1]\n",
            " [0]\n",
            " [1]\n",
            " [0]\n",
            " [0]]\n"
          ],
          "name": "stdout"
        }
      ]
    },
    {
      "cell_type": "code",
      "metadata": {
        "colab": {
          "base_uri": "https://localhost:8080/"
        },
        "id": "eduMwT4AejpY",
        "outputId": "324d78fd-3b65-4c81-d940-48b67236ae01"
      },
      "source": [
        "print(y_test_sample[0:5])"
      ],
      "execution_count": null,
      "outputs": [
        {
          "output_type": "stream",
          "text": [
            "[1 0 1 0 0]\n"
          ],
          "name": "stdout"
        }
      ]
    },
    {
      "cell_type": "markdown",
      "metadata": {
        "id": "9yOtlhyWN6NZ"
      },
      "source": [
        "# Generate Report"
      ]
    },
    {
      "cell_type": "code",
      "metadata": {
        "id": "J5JHXbGoepDu"
      },
      "source": [
        "from sklearn.metrics import classification_report,confusion_matrix"
      ],
      "execution_count": null,
      "outputs": []
    },
    {
      "cell_type": "code",
      "metadata": {
        "colab": {
          "base_uri": "https://localhost:8080/"
        },
        "id": "XKIpczaYeyWa",
        "outputId": "56ad41ce-a909-4c06-bdd9-f579d04e6243"
      },
      "source": [
        "print(classification_report(y_test_sample,y_pred))"
      ],
      "execution_count": null,
      "outputs": [
        {
          "output_type": "stream",
          "text": [
            "              precision    recall  f1-score   support\n",
            "\n",
            "           0       1.00      1.00      1.00       157\n",
            "           1       1.00      1.00      1.00       157\n",
            "\n",
            "    accuracy                           1.00       314\n",
            "   macro avg       1.00      1.00      1.00       314\n",
            "weighted avg       1.00      1.00      1.00       314\n",
            "\n"
          ],
          "name": "stdout"
        }
      ]
    },
    {
      "cell_type": "code",
      "metadata": {
        "colab": {
          "base_uri": "https://localhost:8080/"
        },
        "id": "BZbdaKq5e4eZ",
        "outputId": "6a86248e-bb7c-4eae-8b0c-51fa393a7222"
      },
      "source": [
        "print(confusion_matrix(y_test_sample,y_pred))"
      ],
      "execution_count": null,
      "outputs": [
        {
          "output_type": "stream",
          "text": [
            "[[157   0]\n",
            " [  0 157]]\n"
          ],
          "name": "stdout"
        }
      ]
    },
    {
      "cell_type": "code",
      "metadata": {
        "id": "4J9-WjpzfK8y"
      },
      "source": [
        ""
      ],
      "execution_count": null,
      "outputs": []
    }
  ]
}